{
 "cells": [
  {
   "cell_type": "code",
   "execution_count": 1,
   "id": "5296351e",
   "metadata": {},
   "outputs": [],
   "source": [
    "import pandas as pd\n",
    "import numpy as np\n",
    "import matplotlib.pyplot as plt\n",
    "import seaborn as sns\n",
    "import datetime\n",
    "import warnings\n",
    "warnings.filterwarnings('ignore')"
   ]
  },
  {
   "cell_type": "code",
   "execution_count": 2,
   "id": "fef611a3",
   "metadata": {},
   "outputs": [],
   "source": [
    "train = pd.read_csv('train.csv')\n",
    "testA = pd.read_csv('testA.csv')"
   ]
  },
  {
   "cell_type": "code",
   "execution_count": 3,
   "id": "a4f5797b",
   "metadata": {},
   "outputs": [],
   "source": [
    "train['is_train'] = 1  # 标记为1表示来自训练集\n",
    "testA['is_train'] = 0   # 标记为0表示来自测试集"
   ]
  },
  {
   "cell_type": "code",
   "execution_count": 4,
   "id": "3a3e0bd9",
   "metadata": {},
   "outputs": [],
   "source": [
    "data = pd.concat([train, testA], axis=0, ignore_index=True)"
   ]
  },
  {
   "cell_type": "code",
   "execution_count": 5,
   "id": "7c343b24",
   "metadata": {},
   "outputs": [],
   "source": [
    "y_train = train['isDefault']"
   ]
  },
  {
   "cell_type": "code",
   "execution_count": 6,
   "id": "b6b05bed",
   "metadata": {},
   "outputs": [],
   "source": [
    "data = data.drop(columns=['isDefault'])"
   ]
  },
  {
   "cell_type": "code",
   "execution_count": 7,
   "id": "688ca3fa",
   "metadata": {},
   "outputs": [
    {
     "data": {
      "text/html": [
       "<div>\n",
       "<style scoped>\n",
       "    .dataframe tbody tr th:only-of-type {\n",
       "        vertical-align: middle;\n",
       "    }\n",
       "\n",
       "    .dataframe tbody tr th {\n",
       "        vertical-align: top;\n",
       "    }\n",
       "\n",
       "    .dataframe thead th {\n",
       "        text-align: right;\n",
       "    }\n",
       "</style>\n",
       "<table border=\"1\" class=\"dataframe\">\n",
       "  <thead>\n",
       "    <tr style=\"text-align: right;\">\n",
       "      <th></th>\n",
       "      <th>id</th>\n",
       "      <th>loanAmnt</th>\n",
       "      <th>term</th>\n",
       "      <th>interestRate</th>\n",
       "      <th>installment</th>\n",
       "      <th>grade</th>\n",
       "      <th>subGrade</th>\n",
       "      <th>employmentTitle</th>\n",
       "      <th>employmentLength</th>\n",
       "      <th>homeOwnership</th>\n",
       "      <th>...</th>\n",
       "      <th>n6</th>\n",
       "      <th>n7</th>\n",
       "      <th>n8</th>\n",
       "      <th>n9</th>\n",
       "      <th>n10</th>\n",
       "      <th>n11</th>\n",
       "      <th>n12</th>\n",
       "      <th>n13</th>\n",
       "      <th>n14</th>\n",
       "      <th>is_train</th>\n",
       "    </tr>\n",
       "  </thead>\n",
       "  <tbody>\n",
       "    <tr>\n",
       "      <th>999995</th>\n",
       "      <td>999995</td>\n",
       "      <td>7000.0</td>\n",
       "      <td>3</td>\n",
       "      <td>11.14</td>\n",
       "      <td>229.64</td>\n",
       "      <td>B</td>\n",
       "      <td>B2</td>\n",
       "      <td>330967.0</td>\n",
       "      <td>7 years</td>\n",
       "      <td>1</td>\n",
       "      <td>...</td>\n",
       "      <td>11.0</td>\n",
       "      <td>2.0</td>\n",
       "      <td>6.0</td>\n",
       "      <td>2.0</td>\n",
       "      <td>8.0</td>\n",
       "      <td>0.0</td>\n",
       "      <td>0.0</td>\n",
       "      <td>0.0</td>\n",
       "      <td>4.0</td>\n",
       "      <td>0</td>\n",
       "    </tr>\n",
       "    <tr>\n",
       "      <th>999996</th>\n",
       "      <td>999996</td>\n",
       "      <td>6000.0</td>\n",
       "      <td>3</td>\n",
       "      <td>6.24</td>\n",
       "      <td>183.19</td>\n",
       "      <td>A</td>\n",
       "      <td>A2</td>\n",
       "      <td>38930.0</td>\n",
       "      <td>1 year</td>\n",
       "      <td>1</td>\n",
       "      <td>...</td>\n",
       "      <td>14.0</td>\n",
       "      <td>12.0</td>\n",
       "      <td>13.0</td>\n",
       "      <td>6.0</td>\n",
       "      <td>25.0</td>\n",
       "      <td>0.0</td>\n",
       "      <td>0.0</td>\n",
       "      <td>0.0</td>\n",
       "      <td>0.0</td>\n",
       "      <td>0</td>\n",
       "    </tr>\n",
       "    <tr>\n",
       "      <th>999997</th>\n",
       "      <td>999997</td>\n",
       "      <td>14000.0</td>\n",
       "      <td>5</td>\n",
       "      <td>15.88</td>\n",
       "      <td>339.57</td>\n",
       "      <td>C</td>\n",
       "      <td>C4</td>\n",
       "      <td>282016.0</td>\n",
       "      <td>8 years</td>\n",
       "      <td>2</td>\n",
       "      <td>...</td>\n",
       "      <td>18.0</td>\n",
       "      <td>21.0</td>\n",
       "      <td>42.0</td>\n",
       "      <td>13.0</td>\n",
       "      <td>21.0</td>\n",
       "      <td>0.0</td>\n",
       "      <td>0.0</td>\n",
       "      <td>0.0</td>\n",
       "      <td>0.0</td>\n",
       "      <td>0</td>\n",
       "    </tr>\n",
       "    <tr>\n",
       "      <th>999998</th>\n",
       "      <td>999998</td>\n",
       "      <td>8000.0</td>\n",
       "      <td>3</td>\n",
       "      <td>18.06</td>\n",
       "      <td>289.47</td>\n",
       "      <td>D</td>\n",
       "      <td>D2</td>\n",
       "      <td>97.0</td>\n",
       "      <td>4 years</td>\n",
       "      <td>1</td>\n",
       "      <td>...</td>\n",
       "      <td>5.0</td>\n",
       "      <td>8.0</td>\n",
       "      <td>19.0</td>\n",
       "      <td>6.0</td>\n",
       "      <td>11.0</td>\n",
       "      <td>0.0</td>\n",
       "      <td>0.0</td>\n",
       "      <td>0.0</td>\n",
       "      <td>2.0</td>\n",
       "      <td>0</td>\n",
       "    </tr>\n",
       "    <tr>\n",
       "      <th>999999</th>\n",
       "      <td>999999</td>\n",
       "      <td>8000.0</td>\n",
       "      <td>3</td>\n",
       "      <td>6.68</td>\n",
       "      <td>245.85</td>\n",
       "      <td>A</td>\n",
       "      <td>A3</td>\n",
       "      <td>320.0</td>\n",
       "      <td>7 years</td>\n",
       "      <td>1</td>\n",
       "      <td>...</td>\n",
       "      <td>4.0</td>\n",
       "      <td>3.0</td>\n",
       "      <td>4.0</td>\n",
       "      <td>2.0</td>\n",
       "      <td>4.0</td>\n",
       "      <td>0.0</td>\n",
       "      <td>0.0</td>\n",
       "      <td>0.0</td>\n",
       "      <td>0.0</td>\n",
       "      <td>0</td>\n",
       "    </tr>\n",
       "  </tbody>\n",
       "</table>\n",
       "<p>5 rows × 47 columns</p>\n",
       "</div>"
      ],
      "text/plain": [
       "            id  loanAmnt  term  interestRate  installment grade subGrade  \\\n",
       "999995  999995    7000.0     3         11.14       229.64     B       B2   \n",
       "999996  999996    6000.0     3          6.24       183.19     A       A2   \n",
       "999997  999997   14000.0     5         15.88       339.57     C       C4   \n",
       "999998  999998    8000.0     3         18.06       289.47     D       D2   \n",
       "999999  999999    8000.0     3          6.68       245.85     A       A3   \n",
       "\n",
       "        employmentTitle employmentLength  homeOwnership  ...    n6    n7  \\\n",
       "999995         330967.0          7 years              1  ...  11.0   2.0   \n",
       "999996          38930.0           1 year              1  ...  14.0  12.0   \n",
       "999997         282016.0          8 years              2  ...  18.0  21.0   \n",
       "999998             97.0          4 years              1  ...   5.0   8.0   \n",
       "999999            320.0          7 years              1  ...   4.0   3.0   \n",
       "\n",
       "          n8    n9   n10  n11  n12  n13  n14  is_train  \n",
       "999995   6.0   2.0   8.0  0.0  0.0  0.0  4.0         0  \n",
       "999996  13.0   6.0  25.0  0.0  0.0  0.0  0.0         0  \n",
       "999997  42.0  13.0  21.0  0.0  0.0  0.0  0.0         0  \n",
       "999998  19.0   6.0  11.0  0.0  0.0  0.0  2.0         0  \n",
       "999999   4.0   2.0   4.0  0.0  0.0  0.0  0.0         0  \n",
       "\n",
       "[5 rows x 47 columns]"
      ]
     },
     "execution_count": 7,
     "metadata": {},
     "output_type": "execute_result"
    }
   ],
   "source": [
    "data.tail()"
   ]
  },
  {
   "cell_type": "code",
   "execution_count": 8,
   "id": "5ebcf75e",
   "metadata": {},
   "outputs": [
    {
     "data": {
      "text/plain": [
       "(1000000, 47)"
      ]
     },
     "execution_count": 8,
     "metadata": {},
     "output_type": "execute_result"
    }
   ],
   "source": [
    "data.shape"
   ]
  },
  {
   "cell_type": "code",
   "execution_count": 9,
   "id": "56cba7fe",
   "metadata": {},
   "outputs": [
    {
     "data": {
      "text/plain": [
       "(800000, 48)"
      ]
     },
     "execution_count": 9,
     "metadata": {},
     "output_type": "execute_result"
    }
   ],
   "source": [
    "train.shape"
   ]
  },
  {
   "cell_type": "code",
   "execution_count": 10,
   "id": "947a8cda",
   "metadata": {},
   "outputs": [
    {
     "data": {
      "text/plain": [
       "(200000, 47)"
      ]
     },
     "execution_count": 10,
     "metadata": {},
     "output_type": "execute_result"
    }
   ],
   "source": [
    "testA.shape"
   ]
  },
  {
   "cell_type": "code",
   "execution_count": 11,
   "id": "a8be2f59",
   "metadata": {},
   "outputs": [
    {
     "data": {
      "text/plain": [
       "Index(['id', 'loanAmnt', 'term', 'interestRate', 'installment', 'grade',\n",
       "       'subGrade', 'employmentTitle', 'employmentLength', 'homeOwnership',\n",
       "       'annualIncome', 'verificationStatus', 'issueDate', 'purpose',\n",
       "       'postCode', 'regionCode', 'dti', 'delinquency_2years', 'ficoRangeLow',\n",
       "       'ficoRangeHigh', 'openAcc', 'pubRec', 'pubRecBankruptcies', 'revolBal',\n",
       "       'revolUtil', 'totalAcc', 'initialListStatus', 'applicationType',\n",
       "       'earliesCreditLine', 'title', 'policyCode', 'n0', 'n1', 'n2', 'n3',\n",
       "       'n4', 'n5', 'n6', 'n7', 'n8', 'n9', 'n10', 'n11', 'n12', 'n13', 'n14',\n",
       "       'is_train'],\n",
       "      dtype='object')"
      ]
     },
     "execution_count": 11,
     "metadata": {},
     "output_type": "execute_result"
    }
   ],
   "source": [
    "data.columns"
   ]
  },
  {
   "cell_type": "code",
   "execution_count": 12,
   "id": "0d555693",
   "metadata": {},
   "outputs": [
    {
     "name": "stdout",
     "output_type": "stream",
     "text": [
      "<class 'pandas.core.frame.DataFrame'>\n",
      "RangeIndex: 1000000 entries, 0 to 999999\n",
      "Data columns (total 47 columns):\n",
      " #   Column              Non-Null Count    Dtype  \n",
      "---  ------              --------------    -----  \n",
      " 0   id                  1000000 non-null  int64  \n",
      " 1   loanAmnt            1000000 non-null  float64\n",
      " 2   term                1000000 non-null  int64  \n",
      " 3   interestRate        1000000 non-null  float64\n",
      " 4   installment         1000000 non-null  float64\n",
      " 5   grade               1000000 non-null  object \n",
      " 6   subGrade            1000000 non-null  object \n",
      " 7   employmentTitle     999999 non-null   float64\n",
      " 8   employmentLength    941459 non-null   object \n",
      " 9   homeOwnership       1000000 non-null  int64  \n",
      " 10  annualIncome        1000000 non-null  float64\n",
      " 11  verificationStatus  1000000 non-null  int64  \n",
      " 12  issueDate           1000000 non-null  object \n",
      " 13  purpose             1000000 non-null  int64  \n",
      " 14  postCode            999999 non-null   float64\n",
      " 15  regionCode          1000000 non-null  int64  \n",
      " 16  dti                 999700 non-null   float64\n",
      " 17  delinquency_2years  1000000 non-null  float64\n",
      " 18  ficoRangeLow        1000000 non-null  float64\n",
      " 19  ficoRangeHigh       1000000 non-null  float64\n",
      " 20  openAcc             1000000 non-null  float64\n",
      " 21  pubRec              1000000 non-null  float64\n",
      " 22  pubRecBankruptcies  999479 non-null   float64\n",
      " 23  revolBal            1000000 non-null  float64\n",
      " 24  revolUtil           999342 non-null   float64\n",
      " 25  totalAcc            1000000 non-null  float64\n",
      " 26  initialListStatus   1000000 non-null  int64  \n",
      " 27  applicationType     1000000 non-null  int64  \n",
      " 28  earliesCreditLine   1000000 non-null  object \n",
      " 29  title               999999 non-null   float64\n",
      " 30  policyCode          1000000 non-null  float64\n",
      " 31  n0                  949619 non-null   float64\n",
      " 32  n1                  949619 non-null   float64\n",
      " 33  n2                  949619 non-null   float64\n",
      " 34  n3                  949619 non-null   float64\n",
      " 35  n4                  958367 non-null   float64\n",
      " 36  n5                  949619 non-null   float64\n",
      " 37  n6                  949619 non-null   float64\n",
      " 38  n7                  949619 non-null   float64\n",
      " 39  n8                  949618 non-null   float64\n",
      " 40  n9                  949619 non-null   float64\n",
      " 41  n10                 958367 non-null   float64\n",
      " 42  n11                 912673 non-null   float64\n",
      " 43  n12                 949619 non-null   float64\n",
      " 44  n13                 949619 non-null   float64\n",
      " 45  n14                 949619 non-null   float64\n",
      " 46  is_train            1000000 non-null  int64  \n",
      "dtypes: float64(33), int64(9), object(5)\n",
      "memory usage: 358.6+ MB\n"
     ]
    }
   ],
   "source": [
    "data.info()"
   ]
  },
  {
   "cell_type": "code",
   "execution_count": 13,
   "id": "d81bf5fd",
   "metadata": {},
   "outputs": [
    {
     "data": {
      "text/plain": [
       "22"
      ]
     },
     "execution_count": 13,
     "metadata": {},
     "output_type": "execute_result"
    }
   ],
   "source": [
    "data.isnull().any().sum()"
   ]
  },
  {
   "cell_type": "code",
   "execution_count": 14,
   "id": "dc8cf5ed",
   "metadata": {},
   "outputs": [
    {
     "data": {
      "text/plain": [
       "<Axes: >"
      ]
     },
     "execution_count": 14,
     "metadata": {},
     "output_type": "execute_result"
    },
    {
     "data": {
      "image/png": "[encoded data removed]",
      "text/plain": [
       "<Figure size 640x480 with 1 Axes>"
      ]
     },
     "metadata": {},
     "output_type": "display_data"
    }
   ],
   "source": [
    "#可视化缺失值的比例\n",
    "missing = data.isnull().sum()/len(data)\n",
    "missing = missing[missing > 0]\n",
    "# 对缺失值比例进行排序\n",
    "missing.sort_values(inplace=True)\n",
    "missing.plot.bar()"
   ]
  },
  {
   "cell_type": "code",
   "execution_count": 15,
   "id": "0cd5f941",
   "metadata": {},
   "outputs": [
    {
     "data": {
      "text/plain": [
       "['policyCode']"
      ]
     },
     "execution_count": 15,
     "metadata": {},
     "output_type": "execute_result"
    }
   ],
   "source": [
    "#查看data中是否有唯一值数量小于等于1的列\n",
    "one_value_fea = [col for col in data.columns if data[col].nunique() <= 1]\n",
    "one_value_fea"
   ]
  },
  {
   "cell_type": "code",
   "execution_count": 16,
   "id": "47ad2617",
   "metadata": {},
   "outputs": [],
   "source": [
    "#说明‘policyCode’是没有意义的，可以删除\n",
    "data = data.drop(columns=['policyCode'])"
   ]
  },
  {
   "cell_type": "code",
   "execution_count": 17,
   "id": "ef906928",
   "metadata": {},
   "outputs": [],
   "source": [
    "# 选择数据类型不是 object 的列（即数值列），将这些列名转换为列表。\n",
    "#定义数值特征列表和分类特征列表\n",
    "numerical_fea = list(data.select_dtypes(exclude=['object']).columns)\n",
    "\n",
    "#filter(lambda x: x not in numerical_fea, ...)：过滤出不在 numerical_fea 中的列名（即分类列）\n",
    "category_fea = list(filter(lambda x: x not in numerical_fea,list(data.columns)))"
   ]
  },
  {
   "cell_type": "code",
   "execution_count": 18,
   "id": "118aa531",
   "metadata": {},
   "outputs": [
    {
     "data": {
      "text/plain": [
       "['id',\n",
       " 'loanAmnt',\n",
       " 'term',\n",
       " 'interestRate',\n",
       " 'installment',\n",
       " 'employmentTitle',\n",
       " 'homeOwnership',\n",
       " 'annualIncome',\n",
       " 'verificationStatus',\n",
       " 'purpose',\n",
       " 'postCode',\n",
       " 'regionCode',\n",
       " 'dti',\n",
       " 'delinquency_2years',\n",
       " 'ficoRangeLow',\n",
       " 'ficoRangeHigh',\n",
       " 'openAcc',\n",
       " 'pubRec',\n",
       " 'pubRecBankruptcies',\n",
       " 'revolBal',\n",
       " 'revolUtil',\n",
       " 'totalAcc',\n",
       " 'initialListStatus',\n",
       " 'applicationType',\n",
       " 'title',\n",
       " 'n0',\n",
       " 'n1',\n",
       " 'n2',\n",
       " 'n3',\n",
       " 'n4',\n",
       " 'n5',\n",
       " 'n6',\n",
       " 'n7',\n",
       " 'n8',\n",
       " 'n9',\n",
       " 'n10',\n",
       " 'n11',\n",
       " 'n12',\n",
       " 'n13',\n",
       " 'n14',\n",
       " 'is_train']"
      ]
     },
     "execution_count": 18,
     "metadata": {},
     "output_type": "execute_result"
    }
   ],
   "source": [
    "numerical_fea\n"
   ]
  },
  {
   "cell_type": "code",
   "execution_count": 19,
   "id": "70055de9",
   "metadata": {},
   "outputs": [
    {
     "data": {
      "text/plain": [
       "['grade', 'subGrade', 'employmentLength', 'issueDate', 'earliesCreditLine']"
      ]
     },
     "execution_count": 19,
     "metadata": {},
     "output_type": "execute_result"
    }
   ],
   "source": [
    "category_fea"
   ]
  },
  {
   "cell_type": "code",
   "execution_count": 20,
   "id": "a2ad722d",
   "metadata": {},
   "outputs": [],
   "source": [
    "#数值特征变量分析——划分离散和连续（定义唯一值小于等于10的为离散，否则为连续）\n",
    "def get_numerical_serial_fea(data,feas):\n",
    "    numerical_serial_fea = []\n",
    "    numerical_noserial_fea = []\n",
    "    for fea in feas:\n",
    "        temp = data[fea].nunique()\n",
    "        if temp <= 10:\n",
    "            numerical_noserial_fea.append(fea)\n",
    "            continue\n",
    "        numerical_serial_fea.append(fea)\n",
    "    return numerical_serial_fea,numerical_noserial_fea\n",
    "numerical_serial_fea,numerical_noserial_fea = get_numerical_serial_fea(data,numerical_fea)\n"
   ]
  },
  {
   "cell_type": "code",
   "execution_count": 21,
   "id": "4eb45753",
   "metadata": {},
   "outputs": [
    {
     "data": {
      "text/plain": [
       "['id',\n",
       " 'loanAmnt',\n",
       " 'interestRate',\n",
       " 'installment',\n",
       " 'employmentTitle',\n",
       " 'annualIncome',\n",
       " 'purpose',\n",
       " 'postCode',\n",
       " 'regionCode',\n",
       " 'dti',\n",
       " 'delinquency_2years',\n",
       " 'ficoRangeLow',\n",
       " 'ficoRangeHigh',\n",
       " 'openAcc',\n",
       " 'pubRec',\n",
       " 'pubRecBankruptcies',\n",
       " 'revolBal',\n",
       " 'revolUtil',\n",
       " 'totalAcc',\n",
       " 'title',\n",
       " 'n0',\n",
       " 'n1',\n",
       " 'n2',\n",
       " 'n3',\n",
       " 'n4',\n",
       " 'n5',\n",
       " 'n6',\n",
       " 'n7',\n",
       " 'n8',\n",
       " 'n9',\n",
       " 'n10',\n",
       " 'n13',\n",
       " 'n14']"
      ]
     },
     "execution_count": 21,
     "metadata": {},
     "output_type": "execute_result"
    }
   ],
   "source": [
    "#返回连续型数值变量\n",
    "numerical_serial_fea"
   ]
  },
  {
   "cell_type": "code",
   "execution_count": 22,
   "id": "304f3a58",
   "metadata": {},
   "outputs": [
    {
     "data": {
      "text/plain": [
       "['term',\n",
       " 'homeOwnership',\n",
       " 'verificationStatus',\n",
       " 'initialListStatus',\n",
       " 'applicationType',\n",
       " 'n11',\n",
       " 'n12',\n",
       " 'is_train']"
      ]
     },
     "execution_count": 22,
     "metadata": {},
     "output_type": "execute_result"
    }
   ],
   "source": [
    "#返回离散型数值特征\n",
    "numerical_noserial_fea"
   ]
  },
  {
   "cell_type": "code",
   "execution_count": 23,
   "id": "ea74a732",
   "metadata": {},
   "outputs": [
    {
     "data": {
      "text/plain": [
       "term\n",
       "3    758733\n",
       "5    241267\n",
       "Name: count, dtype: int64"
      ]
     },
     "execution_count": 23,
     "metadata": {},
     "output_type": "execute_result"
    }
   ],
   "source": [
    "#离散型数值特征分析\n",
    "data['term'].value_counts()"
   ]
  },
  {
   "cell_type": "code",
   "execution_count": 24,
   "id": "f3d37480",
   "metadata": {},
   "outputs": [
    {
     "data": {
      "text/plain": [
       "homeOwnership\n",
       "0    494678\n",
       "1    397051\n",
       "2    107910\n",
       "3       223\n",
       "5        98\n",
       "4        40\n",
       "Name: count, dtype: int64"
      ]
     },
     "execution_count": 24,
     "metadata": {},
     "output_type": "execute_result"
    }
   ],
   "source": [
    "data['homeOwnership'].value_counts()"
   ]
  },
  {
   "cell_type": "code",
   "execution_count": 25,
   "id": "170fcf25",
   "metadata": {},
   "outputs": [
    {
     "data": {
      "text/plain": [
       "verificationStatus\n",
       "1    387568\n",
       "2    311132\n",
       "0    301300\n",
       "Name: count, dtype: int64"
      ]
     },
     "execution_count": 25,
     "metadata": {},
     "output_type": "execute_result"
    }
   ],
   "source": [
    "data['verificationStatus'].value_counts()"
   ]
  },
  {
   "cell_type": "code",
   "execution_count": 26,
   "id": "eeac2fcc",
   "metadata": {},
   "outputs": [
    {
     "data": {
      "text/plain": [
       "initialListStatus\n",
       "0    583108\n",
       "1    416892\n",
       "Name: count, dtype: int64"
      ]
     },
     "execution_count": 26,
     "metadata": {},
     "output_type": "execute_result"
    }
   ],
   "source": [
    "data['initialListStatus'].value_counts()"
   ]
  },
  {
   "cell_type": "code",
   "execution_count": 27,
   "id": "b3655333",
   "metadata": {},
   "outputs": [
    {
     "data": {
      "text/plain": [
       "applicationType\n",
       "0    980693\n",
       "1     19307\n",
       "Name: count, dtype: int64"
      ]
     },
     "execution_count": 27,
     "metadata": {},
     "output_type": "execute_result"
    }
   ],
   "source": [
    "data['applicationType'].value_counts()"
   ]
  },
  {
   "cell_type": "code",
   "execution_count": 28,
   "id": "7fa1964c",
   "metadata": {},
   "outputs": [
    {
     "data": {
      "text/plain": [
       "n11\n",
       "0.0    911963\n",
       "1.0       677\n",
       "2.0        30\n",
       "3.0         2\n",
       "4.0         1\n",
       "Name: count, dtype: int64"
      ]
     },
     "execution_count": 28,
     "metadata": {},
     "output_type": "execute_result"
    }
   ],
   "source": [
    "data['n11'].value_counts()"
   ]
  },
  {
   "cell_type": "code",
   "execution_count": 29,
   "id": "54707248",
   "metadata": {},
   "outputs": [
    {
     "data": {
      "text/plain": [
       "n12\n",
       "0.0    946562\n",
       "1.0      2883\n",
       "2.0       150\n",
       "3.0        21\n",
       "4.0         3\n",
       "Name: count, dtype: int64"
      ]
     },
     "execution_count": 29,
     "metadata": {},
     "output_type": "execute_result"
    }
   ],
   "source": [
    "data['n12'].value_counts()"
   ]
  },
  {
   "cell_type": "code",
   "execution_count": 30,
   "id": "f7135b0f",
   "metadata": {},
   "outputs": [
    {
     "data": {
      "text/plain": [
       "['grade', 'subGrade', 'employmentLength', 'issueDate', 'earliesCreditLine']"
      ]
     },
     "execution_count": 30,
     "metadata": {},
     "output_type": "execute_result"
    }
   ],
   "source": [
    "#类别型变量分析\n",
    "category_fea"
   ]
  },
  {
   "cell_type": "code",
   "execution_count": 31,
   "id": "7934df17",
   "metadata": {},
   "outputs": [
    {
     "data": {
      "text/plain": [
       "grade\n",
       "B    292055\n",
       "C    283819\n",
       "A    174588\n",
       "D    149377\n",
       "E     69671\n",
       "F     23751\n",
       "G      6739\n",
       "Name: count, dtype: int64"
      ]
     },
     "execution_count": 31,
     "metadata": {},
     "output_type": "execute_result"
    }
   ],
   "source": [
    "data['grade'].value_counts()"
   ]
  },
  {
   "cell_type": "code",
   "execution_count": 32,
   "id": "4ae3cf81",
   "metadata": {},
   "outputs": [
    {
     "data": {
      "text/plain": [
       "subGrade\n",
       "C1    63620\n",
       "B4    61939\n",
       "B5    61365\n",
       "B3    60700\n",
       "C2    58859\n",
       "C3    55769\n",
       "C4    55382\n",
       "B2    55125\n",
       "B1    52926\n",
       "C5    50189\n",
       "A5    47674\n",
       "A4    38681\n",
       "D1    38205\n",
       "D2    33241\n",
       "A1    32307\n",
       "D3    29231\n",
       "A3    28299\n",
       "A2    27627\n",
       "D4    26375\n",
       "D5    22325\n",
       "E1    17591\n",
       "E2    15921\n",
       "E3    13705\n",
       "E4    11687\n",
       "E5    10767\n",
       "F1     7387\n",
       "F2     5413\n",
       "F3     4483\n",
       "F4     3573\n",
       "F5     2895\n",
       "G1     2247\n",
       "G2     1556\n",
       "G3     1210\n",
       "G4      917\n",
       "G5      809\n",
       "Name: count, dtype: int64"
      ]
     },
     "execution_count": 32,
     "metadata": {},
     "output_type": "execute_result"
    }
   ],
   "source": [
    "data['subGrade'].value_counts()"
   ]
  },
  {
   "cell_type": "code",
   "execution_count": 33,
   "id": "57f76b43",
   "metadata": {},
   "outputs": [
    {
     "data": {
      "text/plain": [
       "employmentLength\n",
       "10+ years    328525\n",
       "2 years       90565\n",
       "< 1 year      80226\n",
       "3 years       80163\n",
       "1 year        65671\n",
       "5 years       62645\n",
       "4 years       59818\n",
       "6 years       46582\n",
       "8 years       45168\n",
       "7 years       44230\n",
       "9 years       37866\n",
       "Name: count, dtype: int64"
      ]
     },
     "execution_count": 33,
     "metadata": {},
     "output_type": "execute_result"
    }
   ],
   "source": [
    "data['employmentLength'].value_counts()"
   ]
  },
  {
   "cell_type": "code",
   "execution_count": 34,
   "id": "0e3aa803",
   "metadata": {},
   "outputs": [
    {
     "data": {
      "text/plain": [
       "issueDate\n",
       "2016-03-01    36542\n",
       "2015-10-01    31918\n",
       "2015-07-01    30590\n",
       "2015-12-01    28966\n",
       "2014-10-01    26768\n",
       "              ...  \n",
       "2007-08-01       27\n",
       "2007-07-01       25\n",
       "2008-09-01       24\n",
       "2007-09-01       11\n",
       "2007-06-01        1\n",
       "Name: count, Length: 139, dtype: int64"
      ]
     },
     "execution_count": 34,
     "metadata": {},
     "output_type": "execute_result"
    }
   ],
   "source": [
    "data['issueDate'].value_counts()"
   ]
  },
  {
   "cell_type": "code",
   "execution_count": 35,
   "id": "c3177974",
   "metadata": {},
   "outputs": [
    {
     "data": {
      "text/plain": [
       "earliesCreditLine\n",
       "Aug-2001    6957\n",
       "Aug-2002    6779\n",
       "Sep-2003    6710\n",
       "Oct-2001    6636\n",
       "Sep-2004    6556\n",
       "            ... \n",
       "Feb-1960       1\n",
       "Sep-1957       1\n",
       "Jul-1955       1\n",
       "May-1960       1\n",
       "May-1961       1\n",
       "Name: count, Length: 726, dtype: int64"
      ]
     },
     "execution_count": 35,
     "metadata": {},
     "output_type": "execute_result"
    }
   ],
   "source": [
    "data['earliesCreditLine'].value_counts()"
   ]
  },
  {
   "cell_type": "code",
   "execution_count": 36,
   "id": "c6859160",
   "metadata": {},
   "outputs": [
    {
     "data": {
      "text/plain": [
       "['loanAmnt',\n",
       " 'term',\n",
       " 'interestRate',\n",
       " 'installment',\n",
       " 'grade',\n",
       " 'subGrade',\n",
       " 'employmentTitle',\n",
       " 'employmentLength',\n",
       " 'homeOwnership',\n",
       " 'annualIncome',\n",
       " 'verificationStatus',\n",
       " 'purpose',\n",
       " 'postCode',\n",
       " 'regionCode',\n",
       " 'dti',\n",
       " 'delinquency_2years',\n",
       " 'ficoRangeLow',\n",
       " 'ficoRangeHigh',\n",
       " 'openAcc',\n",
       " 'pubRec',\n",
       " 'pubRecBankruptcies',\n",
       " 'revolBal',\n",
       " 'revolUtil',\n",
       " 'totalAcc',\n",
       " 'initialListStatus',\n",
       " 'applicationType',\n",
       " 'earliesCreditLine',\n",
       " 'title',\n",
       " 'n0',\n",
       " 'n1',\n",
       " 'n2',\n",
       " 'n3',\n",
       " 'n4',\n",
       " 'n5',\n",
       " 'n6',\n",
       " 'n7',\n",
       " 'n8',\n",
       " 'n9',\n",
       " 'n10',\n",
       " 'n11',\n",
       " 'n12',\n",
       " 'n13',\n",
       " 'n14']"
      ]
     },
     "execution_count": 36,
     "metadata": {},
     "output_type": "execute_result"
    }
   ],
   "source": [
    "features = [f for f in data.columns if f not in ['id','issueDate','is_train']]\n",
    "features"
   ]
  },
  {
   "cell_type": "code",
   "execution_count": 37,
   "id": "66ce99ed",
   "metadata": {},
   "outputs": [
    {
     "data": {
      "text/plain": [
       "43"
      ]
     },
     "execution_count": 37,
     "metadata": {},
     "output_type": "execute_result"
    }
   ],
   "source": [
    "len(features)"
   ]
  },
  {
   "cell_type": "code",
   "execution_count": 38,
   "id": "45809df0",
   "metadata": {},
   "outputs": [
    {
     "data": {
      "text/plain": [
       "id                        0\n",
       "loanAmnt                  0\n",
       "term                      0\n",
       "interestRate              0\n",
       "installment               0\n",
       "grade                     0\n",
       "subGrade                  0\n",
       "employmentTitle           1\n",
       "employmentLength      58541\n",
       "homeOwnership             0\n",
       "annualIncome              0\n",
       "verificationStatus        0\n",
       "issueDate                 0\n",
       "purpose                   0\n",
       "postCode                  1\n",
       "regionCode                0\n",
       "dti                     300\n",
       "delinquency_2years        0\n",
       "ficoRangeLow              0\n",
       "ficoRangeHigh             0\n",
       "openAcc                   0\n",
       "pubRec                    0\n",
       "pubRecBankruptcies      521\n",
       "revolBal                  0\n",
       "revolUtil               658\n",
       "totalAcc                  0\n",
       "initialListStatus         0\n",
       "applicationType           0\n",
       "earliesCreditLine         0\n",
       "title                     1\n",
       "n0                    50381\n",
       "n1                    50381\n",
       "n2                    50381\n",
       "n3                    50381\n",
       "n4                    41633\n",
       "n5                    50381\n",
       "n6                    50381\n",
       "n7                    50381\n",
       "n8                    50382\n",
       "n9                    50381\n",
       "n10                   41633\n",
       "n11                   87327\n",
       "n12                   50381\n",
       "n13                   50381\n",
       "n14                   50381\n",
       "is_train                  0\n",
       "dtype: int64"
      ]
     },
     "execution_count": 38,
     "metadata": {},
     "output_type": "execute_result"
    }
   ],
   "source": [
    "#查看缺失值情况\n",
    "data.isnull().sum()"
   ]
  },
  {
   "cell_type": "code",
   "execution_count": 39,
   "id": "de0102a3",
   "metadata": {},
   "outputs": [
    {
     "data": {
      "text/plain": [
       "5"
      ]
     },
     "execution_count": 39,
     "metadata": {},
     "output_type": "execute_result"
    }
   ],
   "source": [
    "len(category_fea)"
   ]
  },
  {
   "cell_type": "code",
   "execution_count": 40,
   "id": "045682d1",
   "metadata": {},
   "outputs": [
    {
     "data": {
      "text/plain": [
       "41"
      ]
     },
     "execution_count": 40,
     "metadata": {},
     "output_type": "execute_result"
    }
   ],
   "source": [
    "len(numerical_fea)"
   ]
  },
  {
   "cell_type": "code",
   "execution_count": 41,
   "id": "d0161599",
   "metadata": {},
   "outputs": [
    {
     "data": {
      "text/plain": [
       "employmentLength\n",
       "1 year        65671\n",
       "10+ years    328525\n",
       "2 years       90565\n",
       "3 years       80163\n",
       "4 years       59818\n",
       "5 years       62645\n",
       "6 years       46582\n",
       "7 years       44230\n",
       "8 years       45168\n",
       "9 years       37866\n",
       "< 1 year      80226\n",
       "NaN           58541\n",
       "Name: count, dtype: int64"
      ]
     },
     "execution_count": 41,
     "metadata": {},
     "output_type": "execute_result"
    }
   ],
   "source": [
    "data['employmentLength'].value_counts(dropna=False).sort_index()"
   ]
  },
  {
   "cell_type": "code",
   "execution_count": 42,
   "id": "45bd0991",
   "metadata": {},
   "outputs": [],
   "source": [
    "#对象类型特征转换到数值\n",
    "def employmentLength_to_int(s):\n",
    "    if pd.isnull(s):\n",
    "        return s\n",
    "    elif isinstance(s,str):\n",
    "        return np.int8(s.split()[0])\n",
    "    else:\n",
    "        return s"
   ]
  },
  {
   "cell_type": "code",
   "execution_count": 43,
   "id": "5681dab7",
   "metadata": {},
   "outputs": [],
   "source": [
    "# 替换字符串\n",
    "data['employmentLength'].replace('10+ years', '10 years', inplace=True)\n",
    "data['employmentLength'].replace('< 1 year', '0 years', inplace=True)\n",
    "\n",
    "# 将字符串转换为整数\n",
    "data['employmentLength'] = data['employmentLength'].apply(employmentLength_to_int)"
   ]
  },
  {
   "cell_type": "code",
   "execution_count": 44,
   "id": "ed2f4668",
   "metadata": {},
   "outputs": [
    {
     "data": {
      "text/plain": [
       "<bound method DataFrame.info of             id  loanAmnt  term  interestRate  installment grade subGrade  \\\n",
       "0            0   35000.0     5         19.52       917.97     E       E2   \n",
       "1            1   18000.0     5         18.49       461.90     D       D2   \n",
       "2            2   12000.0     5         16.99       298.17     D       D3   \n",
       "3            3   11000.0     3          7.26       340.96     A       A4   \n",
       "4            4    3000.0     3         12.99       101.07     C       C2   \n",
       "...        ...       ...   ...           ...          ...   ...      ...   \n",
       "999995  999995    7000.0     3         11.14       229.64     B       B2   \n",
       "999996  999996    6000.0     3          6.24       183.19     A       A2   \n",
       "999997  999997   14000.0     5         15.88       339.57     C       C4   \n",
       "999998  999998    8000.0     3         18.06       289.47     D       D2   \n",
       "999999  999999    8000.0     3          6.68       245.85     A       A3   \n",
       "\n",
       "        employmentTitle  employmentLength  homeOwnership  ...    n6    n7  \\\n",
       "0                 320.0               2.0              2  ...   8.0   4.0   \n",
       "1              219843.0               5.0              0  ...   NaN   NaN   \n",
       "2               31698.0               8.0              0  ...  21.0   4.0   \n",
       "3               46854.0              10.0              1  ...   4.0   7.0   \n",
       "4                  54.0               NaN              1  ...   9.0  10.0   \n",
       "...                 ...               ...            ...  ...   ...   ...   \n",
       "999995         330967.0               7.0              1  ...  11.0   2.0   \n",
       "999996          38930.0               1.0              1  ...  14.0  12.0   \n",
       "999997         282016.0               8.0              2  ...  18.0  21.0   \n",
       "999998             97.0               4.0              1  ...   5.0   8.0   \n",
       "999999            320.0               7.0              1  ...   4.0   3.0   \n",
       "\n",
       "          n8    n9   n10  n11  n12  n13  n14  is_train  \n",
       "0       12.0   2.0   7.0  0.0  0.0  0.0  2.0         1  \n",
       "1        NaN   NaN  13.0  NaN  NaN  NaN  NaN         1  \n",
       "2        5.0   3.0  11.0  0.0  0.0  0.0  4.0         1  \n",
       "3       21.0   6.0   9.0  0.0  0.0  0.0  1.0         1  \n",
       "4       15.0   7.0  12.0  0.0  0.0  0.0  4.0         1  \n",
       "...      ...   ...   ...  ...  ...  ...  ...       ...  \n",
       "999995   6.0   2.0   8.0  0.0  0.0  0.0  4.0         0  \n",
       "999996  13.0   6.0  25.0  0.0  0.0  0.0  0.0         0  \n",
       "999997  42.0  13.0  21.0  0.0  0.0  0.0  0.0         0  \n",
       "999998  19.0   6.0  11.0  0.0  0.0  0.0  2.0         0  \n",
       "999999   4.0   2.0   4.0  0.0  0.0  0.0  0.0         0  \n",
       "\n",
       "[1000000 rows x 46 columns]>"
      ]
     },
     "execution_count": 44,
     "metadata": {},
     "output_type": "execute_result"
    }
   ],
   "source": [
    "data.info"
   ]
  },
  {
   "cell_type": "code",
   "execution_count": 45,
   "id": "b11baaf6",
   "metadata": {},
   "outputs": [],
   "source": [
    "numeric_features_data = data.select_dtypes(include=['int64', 'float64']).columns\n",
    "categorical_features_data = data.select_dtypes(include=['object']).columns"
   ]
  },
  {
   "cell_type": "code",
   "execution_count": 46,
   "id": "65922f5f",
   "metadata": {},
   "outputs": [],
   "source": [
    "#以平均值填充\n",
    "data[numeric_features_data] = data[numeric_features_data].fillna(data[numeric_features_data].median())\n",
    "#按照众数填充类别型特征\n",
    "data[categorical_features_data] = data[categorical_features_data].fillna(data[categorical_features_data].mode())"
   ]
  },
  {
   "cell_type": "code",
   "execution_count": 47,
   "id": "8307fd31",
   "metadata": {},
   "outputs": [
    {
     "data": {
      "text/plain": [
       "id                    0\n",
       "loanAmnt              0\n",
       "term                  0\n",
       "interestRate          0\n",
       "installment           0\n",
       "grade                 0\n",
       "subGrade              0\n",
       "employmentTitle       0\n",
       "employmentLength      0\n",
       "homeOwnership         0\n",
       "annualIncome          0\n",
       "verificationStatus    0\n",
       "issueDate             0\n",
       "purpose               0\n",
       "postCode              0\n",
       "regionCode            0\n",
       "dti                   0\n",
       "delinquency_2years    0\n",
       "ficoRangeLow          0\n",
       "ficoRangeHigh         0\n",
       "openAcc               0\n",
       "pubRec                0\n",
       "pubRecBankruptcies    0\n",
       "revolBal              0\n",
       "revolUtil             0\n",
       "totalAcc              0\n",
       "initialListStatus     0\n",
       "applicationType       0\n",
       "earliesCreditLine     0\n",
       "title                 0\n",
       "n0                    0\n",
       "n1                    0\n",
       "n2                    0\n",
       "n3                    0\n",
       "n4                    0\n",
       "n5                    0\n",
       "n6                    0\n",
       "n7                    0\n",
       "n8                    0\n",
       "n9                    0\n",
       "n10                   0\n",
       "n11                   0\n",
       "n12                   0\n",
       "n13                   0\n",
       "n14                   0\n",
       "is_train              0\n",
       "dtype: int64"
      ]
     },
     "execution_count": 47,
     "metadata": {},
     "output_type": "execute_result"
    }
   ],
   "source": [
    "#查看缺失值情况\n",
    "data.isnull().sum()"
   ]
  },
  {
   "cell_type": "code",
   "execution_count": 48,
   "id": "78887758",
   "metadata": {},
   "outputs": [],
   "source": [
    "features = [f for f in data.columns if f not in ['id','issueDate','is_train']]"
   ]
  },
  {
   "cell_type": "code",
   "execution_count": 49,
   "id": "0cdc757b",
   "metadata": {},
   "outputs": [
    {
     "data": {
      "text/plain": [
       "445454    Mar-1996\n",
       "497269    Sep-2004\n",
       "768017    Jun-2004\n",
       "179186    Sep-1966\n",
       "652291    Nov-1993\n",
       "Name: earliesCreditLine, dtype: object"
      ]
     },
     "execution_count": 49,
     "metadata": {},
     "output_type": "execute_result"
    }
   ],
   "source": [
    "data['earliesCreditLine'].sample(5)"
   ]
  },
  {
   "cell_type": "code",
   "execution_count": 50,
   "id": "630b3ef5",
   "metadata": {},
   "outputs": [],
   "source": [
    "data['earliesCreditLine'] = data['earliesCreditLine'].apply(lambda s: int(s[-4:]))"
   ]
  },
  {
   "cell_type": "code",
   "execution_count": 51,
   "id": "bd6df5ad",
   "metadata": {},
   "outputs": [
    {
     "data": {
      "text/plain": [
       "226161    2002\n",
       "126231    2003\n",
       "9569      2002\n",
       "633637    2003\n",
       "924679    1996\n",
       "Name: earliesCreditLine, dtype: int64"
      ]
     },
     "execution_count": 51,
     "metadata": {},
     "output_type": "execute_result"
    }
   ],
   "source": [
    "data['earliesCreditLine'].sample(5)"
   ]
  },
  {
   "cell_type": "code",
   "execution_count": 52,
   "id": "0998a709",
   "metadata": {},
   "outputs": [
    {
     "name": "stdout",
     "output_type": "stream",
     "text": [
      "grade 类型数： 7\n",
      "subGrade 类型数： 35\n",
      "employmentTitle 类型数： 298101\n",
      "homeOwnership 类型数： 6\n",
      "verificationStatus 类型数： 3\n",
      "purpose 类型数： 14\n",
      "postCode 类型数： 935\n",
      "regionCode 类型数： 51\n",
      "applicationType 类型数： 2\n",
      "initialListStatus 类型数： 2\n",
      "title 类型数： 47903\n"
     ]
    }
   ],
   "source": [
    "# 部分类别特征\n",
    "cate_features = ['grade', 'subGrade', 'employmentTitle', 'homeOwnership', 'verificationStatus', 'purpose', 'postCode', 'regionCode', \\\n",
    "                 'applicationType', 'initialListStatus', 'title']\n",
    "for f in cate_features:\n",
    "    print(f, '类型数：', data[f].nunique())"
   ]
  },
  {
   "cell_type": "code",
   "execution_count": 53,
   "id": "bc2e66b4",
   "metadata": {},
   "outputs": [],
   "source": [
    "# # 定义函数进行异常值处理（3-sigma法则）\n",
    "# def find_outliers_by_3segama(data, fea):\n",
    "#     data_std = np.std(data[fea])  # 计算标准差\n",
    "#     data_mean = np.mean(data[fea])  # 计算均值\n",
    "#     outliers_cut_off = data_std * 3  # 计算3倍标准差\n",
    "#     lower_rule = data_mean - outliers_cut_off  # 下限\n",
    "#     upper_rule = data_mean + outliers_cut_off  # 上限\n",
    "    \n",
    "#     # 标记异常值\n",
    "#     data[fea+'_outliers'] = data[fea].apply(lambda x: '异常值' if x > upper_rule or x < lower_rule else '正常值')\n",
    "#     return data\n",
    "\n",
    "# # 仅对数值型特征进行异常值处理\n",
    "# for fea in numerical_fea:\n",
    "#     data = find_outliers_by_3segama(data, fea)  # 找到异常值\n",
    "#     data = data[data[fea + '_outliers'] == '正常值']  # 保留“正常值”\n",
    "#     data = data.drop(columns=[fea + '_outliers'])  # 删除标记列\n",
    "\n",
    "# # 重置索引\n",
    "# data = data.reset_index(drop=True)"
   ]
  },
  {
   "cell_type": "code",
   "execution_count": 54,
   "id": "d048cd21",
   "metadata": {},
   "outputs": [
    {
     "data": {
      "text/plain": [
       "626416    F\n",
       "527994    C\n",
       "640558    B\n",
       "622887    A\n",
       "701281    C\n",
       "Name: grade, dtype: object"
      ]
     },
     "execution_count": 54,
     "metadata": {},
     "output_type": "execute_result"
    }
   ],
   "source": [
    "data['grade'].sample(5)"
   ]
  },
  {
   "cell_type": "code",
   "execution_count": 55,
   "id": "b6304bb3",
   "metadata": {},
   "outputs": [],
   "source": [
    " data['grade'] = data['grade'].map({'A':1,'B':2,'C':3,'D':4,'E':5,'F':6,'G':7})"
   ]
  },
  {
   "cell_type": "code",
   "execution_count": 56,
   "id": "07d45844",
   "metadata": {},
   "outputs": [
    {
     "data": {
      "text/plain": [
       "674194    2\n",
       "607404    2\n",
       "843345    2\n",
       "900153    1\n",
       "613704    4\n",
       "Name: grade, dtype: int64"
      ]
     },
     "execution_count": 56,
     "metadata": {},
     "output_type": "execute_result"
    }
   ],
   "source": [
    "data['grade'].sample(5)"
   ]
  },
  {
   "cell_type": "code",
   "execution_count": 57,
   "id": "5c20ffa4",
   "metadata": {},
   "outputs": [],
   "source": [
    "# 类型数在2之上，又不是高维稀疏的\n",
    "data = pd.get_dummies(data, columns=['subGrade', 'homeOwnership', 'verificationStatus', 'purpose', 'regionCode'], drop_first=True)"
   ]
  },
  {
   "cell_type": "code",
   "execution_count": 58,
   "id": "e23a9924",
   "metadata": {},
   "outputs": [],
   "source": [
    "new_columns = data.columns.difference(features)  # 获取新生成的列名"
   ]
  },
  {
   "cell_type": "code",
   "execution_count": 59,
   "id": "49e51daa",
   "metadata": {},
   "outputs": [
    {
     "data": {
      "text/plain": [
       "Index(['homeOwnership_1', 'homeOwnership_2', 'homeOwnership_3',\n",
       "       'homeOwnership_4', 'homeOwnership_5', 'id', 'is_train', 'issueDate',\n",
       "       'purpose_1', 'purpose_10',\n",
       "       ...\n",
       "       'subGrade_F3', 'subGrade_F4', 'subGrade_F5', 'subGrade_G1',\n",
       "       'subGrade_G2', 'subGrade_G3', 'subGrade_G4', 'subGrade_G5',\n",
       "       'verificationStatus_1', 'verificationStatus_2'],\n",
       "      dtype='object', length=107)"
      ]
     },
     "execution_count": 59,
     "metadata": {},
     "output_type": "execute_result"
    }
   ],
   "source": [
    "new_columns"
   ]
  },
  {
   "cell_type": "code",
   "execution_count": 60,
   "id": "eb080310",
   "metadata": {},
   "outputs": [
    {
     "data": {
      "text/plain": [
       "145"
      ]
     },
     "execution_count": 60,
     "metadata": {},
     "output_type": "execute_result"
    }
   ],
   "source": [
    "len(data.columns)"
   ]
  },
  {
   "cell_type": "code",
   "execution_count": 61,
   "id": "1aae997b",
   "metadata": {},
   "outputs": [
    {
     "name": "stderr",
     "output_type": "stream",
     "text": [
      "100%|████████████████████████████████████████████████████████████████████████████████████| 3/3 [00:13<00:00,  4.58s/it]"
     ]
    },
    {
     "name": "stdout",
     "output_type": "stream",
     "text": [
      "Label Encoding 完成\n"
     ]
    },
    {
     "name": "stderr",
     "output_type": "stream",
     "text": [
      "\n"
     ]
    }
   ],
   "source": [
    "from tqdm import tqdm\n",
    "from sklearn.preprocessing import LabelEncoder\n",
    "#label-encode:subGrade,postCode,title\n",
    "# 高维类别特征需要进行转换\n",
    "for col in tqdm(['employmentTitle', 'postCode', 'title']):\n",
    "    le = LabelEncoder()\n",
    "    le.fit(list(data[col].astype(str).values))\n",
    "    data[col] = le.transform(list(data[col].astype(str).values))\n",
    "print('Label Encoding 完成')"
   ]
  },
  {
   "cell_type": "code",
   "execution_count": 62,
   "id": "d97ed108",
   "metadata": {},
   "outputs": [
    {
     "data": {
      "text/plain": [
       "215936     30206\n",
       "734686    256267\n",
       "42439      16934\n",
       "393920    185692\n",
       "293605     81794\n",
       "Name: employmentTitle, dtype: int32"
      ]
     },
     "execution_count": 62,
     "metadata": {},
     "output_type": "execute_result"
    }
   ],
   "source": [
    "data['employmentTitle'].sample(5)"
   ]
  },
  {
   "cell_type": "code",
   "execution_count": 63,
   "id": "cca74e59",
   "metadata": {},
   "outputs": [
    {
     "data": {
      "text/plain": [
       "['id',\n",
       " 'loanAmnt',\n",
       " 'term',\n",
       " 'interestRate',\n",
       " 'installment',\n",
       " 'employmentTitle',\n",
       " 'homeOwnership',\n",
       " 'annualIncome',\n",
       " 'verificationStatus',\n",
       " 'purpose',\n",
       " 'postCode',\n",
       " 'regionCode',\n",
       " 'dti',\n",
       " 'delinquency_2years',\n",
       " 'ficoRangeLow',\n",
       " 'ficoRangeHigh',\n",
       " 'openAcc',\n",
       " 'pubRec',\n",
       " 'pubRecBankruptcies',\n",
       " 'revolBal',\n",
       " 'revolUtil',\n",
       " 'totalAcc',\n",
       " 'initialListStatus',\n",
       " 'applicationType',\n",
       " 'title',\n",
       " 'n0',\n",
       " 'n1',\n",
       " 'n2',\n",
       " 'n3',\n",
       " 'n4',\n",
       " 'n5',\n",
       " 'n6',\n",
       " 'n7',\n",
       " 'n8',\n",
       " 'n9',\n",
       " 'n10',\n",
       " 'n11',\n",
       " 'n12',\n",
       " 'n13',\n",
       " 'n14',\n",
       " 'is_train']"
      ]
     },
     "execution_count": 63,
     "metadata": {},
     "output_type": "execute_result"
    }
   ],
   "source": [
    "numerical_fea"
   ]
  },
  {
   "cell_type": "code",
   "execution_count": 64,
   "id": "815b94a0",
   "metadata": {},
   "outputs": [
    {
     "data": {
      "text/plain": [
       "['grade', 'subGrade', 'employmentLength', 'issueDate', 'earliesCreditLine']"
      ]
     },
     "execution_count": 64,
     "metadata": {},
     "output_type": "execute_result"
    }
   ],
   "source": [
    "category_fea"
   ]
  },
  {
   "cell_type": "code",
   "execution_count": 65,
   "id": "744c44d5",
   "metadata": {},
   "outputs": [],
   "source": [
    "features = [f for f in data.columns if f not in ['id','issueDate']]"
   ]
  },
  {
   "cell_type": "code",
   "execution_count": 66,
   "id": "5df63409",
   "metadata": {},
   "outputs": [
    {
     "data": {
      "text/plain": [
       "['loanAmnt',\n",
       " 'term',\n",
       " 'interestRate',\n",
       " 'installment',\n",
       " 'grade',\n",
       " 'employmentTitle',\n",
       " 'employmentLength',\n",
       " 'annualIncome',\n",
       " 'postCode',\n",
       " 'dti',\n",
       " 'delinquency_2years',\n",
       " 'ficoRangeLow',\n",
       " 'ficoRangeHigh',\n",
       " 'openAcc',\n",
       " 'pubRec',\n",
       " 'pubRecBankruptcies',\n",
       " 'revolBal',\n",
       " 'revolUtil',\n",
       " 'totalAcc',\n",
       " 'initialListStatus',\n",
       " 'applicationType',\n",
       " 'earliesCreditLine',\n",
       " 'title',\n",
       " 'n0',\n",
       " 'n1',\n",
       " 'n2',\n",
       " 'n3',\n",
       " 'n4',\n",
       " 'n5',\n",
       " 'n6',\n",
       " 'n7',\n",
       " 'n8',\n",
       " 'n9',\n",
       " 'n10',\n",
       " 'n11',\n",
       " 'n12',\n",
       " 'n13',\n",
       " 'n14',\n",
       " 'is_train',\n",
       " 'subGrade_A2',\n",
       " 'subGrade_A3',\n",
       " 'subGrade_A4',\n",
       " 'subGrade_A5',\n",
       " 'subGrade_B1',\n",
       " 'subGrade_B2',\n",
       " 'subGrade_B3',\n",
       " 'subGrade_B4',\n",
       " 'subGrade_B5',\n",
       " 'subGrade_C1',\n",
       " 'subGrade_C2',\n",
       " 'subGrade_C3',\n",
       " 'subGrade_C4',\n",
       " 'subGrade_C5',\n",
       " 'subGrade_D1',\n",
       " 'subGrade_D2',\n",
       " 'subGrade_D3',\n",
       " 'subGrade_D4',\n",
       " 'subGrade_D5',\n",
       " 'subGrade_E1',\n",
       " 'subGrade_E2',\n",
       " 'subGrade_E3',\n",
       " 'subGrade_E4',\n",
       " 'subGrade_E5',\n",
       " 'subGrade_F1',\n",
       " 'subGrade_F2',\n",
       " 'subGrade_F3',\n",
       " 'subGrade_F4',\n",
       " 'subGrade_F5',\n",
       " 'subGrade_G1',\n",
       " 'subGrade_G2',\n",
       " 'subGrade_G3',\n",
       " 'subGrade_G4',\n",
       " 'subGrade_G5',\n",
       " 'homeOwnership_1',\n",
       " 'homeOwnership_2',\n",
       " 'homeOwnership_3',\n",
       " 'homeOwnership_4',\n",
       " 'homeOwnership_5',\n",
       " 'verificationStatus_1',\n",
       " 'verificationStatus_2',\n",
       " 'purpose_1',\n",
       " 'purpose_2',\n",
       " 'purpose_3',\n",
       " 'purpose_4',\n",
       " 'purpose_5',\n",
       " 'purpose_6',\n",
       " 'purpose_7',\n",
       " 'purpose_8',\n",
       " 'purpose_9',\n",
       " 'purpose_10',\n",
       " 'purpose_11',\n",
       " 'purpose_12',\n",
       " 'purpose_13',\n",
       " 'regionCode_1',\n",
       " 'regionCode_2',\n",
       " 'regionCode_3',\n",
       " 'regionCode_4',\n",
       " 'regionCode_5',\n",
       " 'regionCode_6',\n",
       " 'regionCode_7',\n",
       " 'regionCode_8',\n",
       " 'regionCode_9',\n",
       " 'regionCode_10',\n",
       " 'regionCode_11',\n",
       " 'regionCode_12',\n",
       " 'regionCode_13',\n",
       " 'regionCode_14',\n",
       " 'regionCode_15',\n",
       " 'regionCode_16',\n",
       " 'regionCode_17',\n",
       " 'regionCode_18',\n",
       " 'regionCode_19',\n",
       " 'regionCode_20',\n",
       " 'regionCode_21',\n",
       " 'regionCode_22',\n",
       " 'regionCode_23',\n",
       " 'regionCode_24',\n",
       " 'regionCode_25',\n",
       " 'regionCode_26',\n",
       " 'regionCode_27',\n",
       " 'regionCode_28',\n",
       " 'regionCode_29',\n",
       " 'regionCode_30',\n",
       " 'regionCode_31',\n",
       " 'regionCode_32',\n",
       " 'regionCode_33',\n",
       " 'regionCode_34',\n",
       " 'regionCode_35',\n",
       " 'regionCode_36',\n",
       " 'regionCode_37',\n",
       " 'regionCode_38',\n",
       " 'regionCode_39',\n",
       " 'regionCode_40',\n",
       " 'regionCode_41',\n",
       " 'regionCode_42',\n",
       " 'regionCode_43',\n",
       " 'regionCode_44',\n",
       " 'regionCode_45',\n",
       " 'regionCode_46',\n",
       " 'regionCode_47',\n",
       " 'regionCode_48',\n",
       " 'regionCode_49',\n",
       " 'regionCode_50']"
      ]
     },
     "execution_count": 66,
     "metadata": {},
     "output_type": "execute_result"
    }
   ],
   "source": [
    "features"
   ]
  },
  {
   "cell_type": "code",
   "execution_count": 67,
   "id": "789dbc85",
   "metadata": {},
   "outputs": [
    {
     "data": {
      "text/plain": [
       "(1000000, 145)"
      ]
     },
     "execution_count": 67,
     "metadata": {},
     "output_type": "execute_result"
    }
   ],
   "source": [
    "data.shape"
   ]
  },
  {
   "cell_type": "code",
   "execution_count": 68,
   "id": "3d083fab",
   "metadata": {},
   "outputs": [],
   "source": [
    "train = data[data['is_train'] == 1].drop(columns=['is_train'])\n",
    "test = data[data['is_train'] == 0].drop(columns=['is_train'])\n",
    "\n",
    "# # 如果需要提取目标变量 'isDefault'，可以这样操作\n",
    "# train_y = train['isDefault']\n",
    "# train_X = train.drop(columns=['isDefault'])\n",
    "\n",
    "# # 对于 test 集，确保它不包含 'isDefault' 列\n",
    "# test_X = test  # 如果 test 本来就没有 'isDefault' 列，直接赋值即可"
   ]
  },
  {
   "cell_type": "code",
   "execution_count": 69,
   "id": "0855bb8d",
   "metadata": {},
   "outputs": [
    {
     "data": {
      "text/html": [
       "<div>\n",
       "<style scoped>\n",
       "    .dataframe tbody tr th:only-of-type {\n",
       "        vertical-align: middle;\n",
       "    }\n",
       "\n",
       "    .dataframe tbody tr th {\n",
       "        vertical-align: top;\n",
       "    }\n",
       "\n",
       "    .dataframe thead th {\n",
       "        text-align: right;\n",
       "    }\n",
       "</style>\n",
       "<table border=\"1\" class=\"dataframe\">\n",
       "  <thead>\n",
       "    <tr style=\"text-align: right;\">\n",
       "      <th></th>\n",
       "      <th>id</th>\n",
       "      <th>loanAmnt</th>\n",
       "      <th>term</th>\n",
       "      <th>interestRate</th>\n",
       "      <th>installment</th>\n",
       "      <th>grade</th>\n",
       "      <th>employmentTitle</th>\n",
       "      <th>employmentLength</th>\n",
       "      <th>annualIncome</th>\n",
       "      <th>issueDate</th>\n",
       "      <th>...</th>\n",
       "      <th>regionCode_41</th>\n",
       "      <th>regionCode_42</th>\n",
       "      <th>regionCode_43</th>\n",
       "      <th>regionCode_44</th>\n",
       "      <th>regionCode_45</th>\n",
       "      <th>regionCode_46</th>\n",
       "      <th>regionCode_47</th>\n",
       "      <th>regionCode_48</th>\n",
       "      <th>regionCode_49</th>\n",
       "      <th>regionCode_50</th>\n",
       "    </tr>\n",
       "  </thead>\n",
       "  <tbody>\n",
       "    <tr>\n",
       "      <th>0</th>\n",
       "      <td>0</td>\n",
       "      <td>35000.0</td>\n",
       "      <td>5</td>\n",
       "      <td>19.52</td>\n",
       "      <td>917.97</td>\n",
       "      <td>5</td>\n",
       "      <td>192025</td>\n",
       "      <td>2.0</td>\n",
       "      <td>110000.0</td>\n",
       "      <td>2014-07-01</td>\n",
       "      <td>...</td>\n",
       "      <td>False</td>\n",
       "      <td>False</td>\n",
       "      <td>False</td>\n",
       "      <td>False</td>\n",
       "      <td>False</td>\n",
       "      <td>False</td>\n",
       "      <td>False</td>\n",
       "      <td>False</td>\n",
       "      <td>False</td>\n",
       "      <td>False</td>\n",
       "    </tr>\n",
       "    <tr>\n",
       "      <th>1</th>\n",
       "      <td>1</td>\n",
       "      <td>18000.0</td>\n",
       "      <td>5</td>\n",
       "      <td>18.49</td>\n",
       "      <td>461.90</td>\n",
       "      <td>4</td>\n",
       "      <td>104733</td>\n",
       "      <td>5.0</td>\n",
       "      <td>46000.0</td>\n",
       "      <td>2012-08-01</td>\n",
       "      <td>...</td>\n",
       "      <td>False</td>\n",
       "      <td>False</td>\n",
       "      <td>False</td>\n",
       "      <td>False</td>\n",
       "      <td>False</td>\n",
       "      <td>False</td>\n",
       "      <td>False</td>\n",
       "      <td>False</td>\n",
       "      <td>False</td>\n",
       "      <td>False</td>\n",
       "    </tr>\n",
       "    <tr>\n",
       "      <th>2</th>\n",
       "      <td>2</td>\n",
       "      <td>12000.0</td>\n",
       "      <td>5</td>\n",
       "      <td>16.99</td>\n",
       "      <td>298.17</td>\n",
       "      <td>4</td>\n",
       "      <td>189509</td>\n",
       "      <td>8.0</td>\n",
       "      <td>74000.0</td>\n",
       "      <td>2015-10-01</td>\n",
       "      <td>...</td>\n",
       "      <td>False</td>\n",
       "      <td>False</td>\n",
       "      <td>False</td>\n",
       "      <td>False</td>\n",
       "      <td>False</td>\n",
       "      <td>False</td>\n",
       "      <td>False</td>\n",
       "      <td>False</td>\n",
       "      <td>False</td>\n",
       "      <td>False</td>\n",
       "    </tr>\n",
       "    <tr>\n",
       "      <th>3</th>\n",
       "      <td>3</td>\n",
       "      <td>11000.0</td>\n",
       "      <td>3</td>\n",
       "      <td>7.26</td>\n",
       "      <td>340.96</td>\n",
       "      <td>1</td>\n",
       "      <td>249631</td>\n",
       "      <td>10.0</td>\n",
       "      <td>118000.0</td>\n",
       "      <td>2015-08-01</td>\n",
       "      <td>...</td>\n",
       "      <td>False</td>\n",
       "      <td>False</td>\n",
       "      <td>False</td>\n",
       "      <td>False</td>\n",
       "      <td>False</td>\n",
       "      <td>False</td>\n",
       "      <td>False</td>\n",
       "      <td>False</td>\n",
       "      <td>False</td>\n",
       "      <td>False</td>\n",
       "    </tr>\n",
       "    <tr>\n",
       "      <th>4</th>\n",
       "      <td>4</td>\n",
       "      <td>3000.0</td>\n",
       "      <td>3</td>\n",
       "      <td>12.99</td>\n",
       "      <td>101.07</td>\n",
       "      <td>3</td>\n",
       "      <td>256267</td>\n",
       "      <td>6.0</td>\n",
       "      <td>29000.0</td>\n",
       "      <td>2016-03-01</td>\n",
       "      <td>...</td>\n",
       "      <td>False</td>\n",
       "      <td>False</td>\n",
       "      <td>False</td>\n",
       "      <td>False</td>\n",
       "      <td>False</td>\n",
       "      <td>False</td>\n",
       "      <td>False</td>\n",
       "      <td>False</td>\n",
       "      <td>False</td>\n",
       "      <td>False</td>\n",
       "    </tr>\n",
       "  </tbody>\n",
       "</table>\n",
       "<p>5 rows × 144 columns</p>\n",
       "</div>"
      ],
      "text/plain": [
       "   id  loanAmnt  term  interestRate  installment  grade  employmentTitle  \\\n",
       "0   0   35000.0     5         19.52       917.97      5           192025   \n",
       "1   1   18000.0     5         18.49       461.90      4           104733   \n",
       "2   2   12000.0     5         16.99       298.17      4           189509   \n",
       "3   3   11000.0     3          7.26       340.96      1           249631   \n",
       "4   4    3000.0     3         12.99       101.07      3           256267   \n",
       "\n",
       "   employmentLength  annualIncome   issueDate  ...  regionCode_41  \\\n",
       "0               2.0      110000.0  2014-07-01  ...          False   \n",
       "1               5.0       46000.0  2012-08-01  ...          False   \n",
       "2               8.0       74000.0  2015-10-01  ...          False   \n",
       "3              10.0      118000.0  2015-08-01  ...          False   \n",
       "4               6.0       29000.0  2016-03-01  ...          False   \n",
       "\n",
       "   regionCode_42  regionCode_43  regionCode_44  regionCode_45  regionCode_46  \\\n",
       "0          False          False          False          False          False   \n",
       "1          False          False          False          False          False   \n",
       "2          False          False          False          False          False   \n",
       "3          False          False          False          False          False   \n",
       "4          False          False          False          False          False   \n",
       "\n",
       "   regionCode_47  regionCode_48  regionCode_49  regionCode_50  \n",
       "0          False          False          False          False  \n",
       "1          False          False          False          False  \n",
       "2          False          False          False          False  \n",
       "3          False          False          False          False  \n",
       "4          False          False          False          False  \n",
       "\n",
       "[5 rows x 144 columns]"
      ]
     },
     "execution_count": 69,
     "metadata": {},
     "output_type": "execute_result"
    }
   ],
   "source": [
    "train.head()"
   ]
  },
  {
   "cell_type": "code",
   "execution_count": 70,
   "id": "a19154d1",
   "metadata": {},
   "outputs": [
    {
     "data": {
      "text/html": [
       "<div>\n",
       "<style scoped>\n",
       "    .dataframe tbody tr th:only-of-type {\n",
       "        vertical-align: middle;\n",
       "    }\n",
       "\n",
       "    .dataframe tbody tr th {\n",
       "        vertical-align: top;\n",
       "    }\n",
       "\n",
       "    .dataframe thead th {\n",
       "        text-align: right;\n",
       "    }\n",
       "</style>\n",
       "<table border=\"1\" class=\"dataframe\">\n",
       "  <thead>\n",
       "    <tr style=\"text-align: right;\">\n",
       "      <th></th>\n",
       "      <th>id</th>\n",
       "      <th>loanAmnt</th>\n",
       "      <th>term</th>\n",
       "      <th>interestRate</th>\n",
       "      <th>installment</th>\n",
       "      <th>grade</th>\n",
       "      <th>employmentTitle</th>\n",
       "      <th>employmentLength</th>\n",
       "      <th>annualIncome</th>\n",
       "      <th>issueDate</th>\n",
       "      <th>...</th>\n",
       "      <th>regionCode_41</th>\n",
       "      <th>regionCode_42</th>\n",
       "      <th>regionCode_43</th>\n",
       "      <th>regionCode_44</th>\n",
       "      <th>regionCode_45</th>\n",
       "      <th>regionCode_46</th>\n",
       "      <th>regionCode_47</th>\n",
       "      <th>regionCode_48</th>\n",
       "      <th>regionCode_49</th>\n",
       "      <th>regionCode_50</th>\n",
       "    </tr>\n",
       "  </thead>\n",
       "  <tbody>\n",
       "    <tr>\n",
       "      <th>800000</th>\n",
       "      <td>800000</td>\n",
       "      <td>14000.0</td>\n",
       "      <td>3</td>\n",
       "      <td>10.99</td>\n",
       "      <td>458.28</td>\n",
       "      <td>2</td>\n",
       "      <td>271265</td>\n",
       "      <td>10.0</td>\n",
       "      <td>80000.0</td>\n",
       "      <td>2014-07-01</td>\n",
       "      <td>...</td>\n",
       "      <td>False</td>\n",
       "      <td>False</td>\n",
       "      <td>False</td>\n",
       "      <td>False</td>\n",
       "      <td>False</td>\n",
       "      <td>False</td>\n",
       "      <td>False</td>\n",
       "      <td>False</td>\n",
       "      <td>False</td>\n",
       "      <td>False</td>\n",
       "    </tr>\n",
       "    <tr>\n",
       "      <th>800001</th>\n",
       "      <td>800001</td>\n",
       "      <td>20000.0</td>\n",
       "      <td>5</td>\n",
       "      <td>14.65</td>\n",
       "      <td>472.14</td>\n",
       "      <td>3</td>\n",
       "      <td>262182</td>\n",
       "      <td>10.0</td>\n",
       "      <td>50000.0</td>\n",
       "      <td>2015-07-01</td>\n",
       "      <td>...</td>\n",
       "      <td>False</td>\n",
       "      <td>False</td>\n",
       "      <td>False</td>\n",
       "      <td>False</td>\n",
       "      <td>False</td>\n",
       "      <td>False</td>\n",
       "      <td>False</td>\n",
       "      <td>False</td>\n",
       "      <td>False</td>\n",
       "      <td>False</td>\n",
       "    </tr>\n",
       "    <tr>\n",
       "      <th>800002</th>\n",
       "      <td>800002</td>\n",
       "      <td>12000.0</td>\n",
       "      <td>3</td>\n",
       "      <td>19.99</td>\n",
       "      <td>445.91</td>\n",
       "      <td>4</td>\n",
       "      <td>119041</td>\n",
       "      <td>2.0</td>\n",
       "      <td>60000.0</td>\n",
       "      <td>2016-10-01</td>\n",
       "      <td>...</td>\n",
       "      <td>False</td>\n",
       "      <td>False</td>\n",
       "      <td>False</td>\n",
       "      <td>False</td>\n",
       "      <td>False</td>\n",
       "      <td>False</td>\n",
       "      <td>False</td>\n",
       "      <td>False</td>\n",
       "      <td>False</td>\n",
       "      <td>False</td>\n",
       "    </tr>\n",
       "    <tr>\n",
       "      <th>800003</th>\n",
       "      <td>800003</td>\n",
       "      <td>17500.0</td>\n",
       "      <td>5</td>\n",
       "      <td>14.31</td>\n",
       "      <td>410.02</td>\n",
       "      <td>3</td>\n",
       "      <td>265125</td>\n",
       "      <td>4.0</td>\n",
       "      <td>37000.0</td>\n",
       "      <td>2014-11-01</td>\n",
       "      <td>...</td>\n",
       "      <td>False</td>\n",
       "      <td>False</td>\n",
       "      <td>False</td>\n",
       "      <td>False</td>\n",
       "      <td>False</td>\n",
       "      <td>False</td>\n",
       "      <td>False</td>\n",
       "      <td>False</td>\n",
       "      <td>False</td>\n",
       "      <td>False</td>\n",
       "    </tr>\n",
       "    <tr>\n",
       "      <th>800004</th>\n",
       "      <td>800004</td>\n",
       "      <td>35000.0</td>\n",
       "      <td>3</td>\n",
       "      <td>17.09</td>\n",
       "      <td>1249.42</td>\n",
       "      <td>4</td>\n",
       "      <td>232971</td>\n",
       "      <td>0.0</td>\n",
       "      <td>80000.0</td>\n",
       "      <td>2017-10-01</td>\n",
       "      <td>...</td>\n",
       "      <td>False</td>\n",
       "      <td>False</td>\n",
       "      <td>False</td>\n",
       "      <td>False</td>\n",
       "      <td>False</td>\n",
       "      <td>False</td>\n",
       "      <td>False</td>\n",
       "      <td>False</td>\n",
       "      <td>False</td>\n",
       "      <td>False</td>\n",
       "    </tr>\n",
       "  </tbody>\n",
       "</table>\n",
       "<p>5 rows × 144 columns</p>\n",
       "</div>"
      ],
      "text/plain": [
       "            id  loanAmnt  term  interestRate  installment  grade  \\\n",
       "800000  800000   14000.0     3         10.99       458.28      2   \n",
       "800001  800001   20000.0     5         14.65       472.14      3   \n",
       "800002  800002   12000.0     3         19.99       445.91      4   \n",
       "800003  800003   17500.0     5         14.31       410.02      3   \n",
       "800004  800004   35000.0     3         17.09      1249.42      4   \n",
       "\n",
       "        employmentTitle  employmentLength  annualIncome   issueDate  ...  \\\n",
       "800000           271265              10.0       80000.0  2014-07-01  ...   \n",
       "800001           262182              10.0       50000.0  2015-07-01  ...   \n",
       "800002           119041               2.0       60000.0  2016-10-01  ...   \n",
       "800003           265125               4.0       37000.0  2014-11-01  ...   \n",
       "800004           232971               0.0       80000.0  2017-10-01  ...   \n",
       "\n",
       "        regionCode_41  regionCode_42  regionCode_43  regionCode_44  \\\n",
       "800000          False          False          False          False   \n",
       "800001          False          False          False          False   \n",
       "800002          False          False          False          False   \n",
       "800003          False          False          False          False   \n",
       "800004          False          False          False          False   \n",
       "\n",
       "        regionCode_45  regionCode_46  regionCode_47  regionCode_48  \\\n",
       "800000          False          False          False          False   \n",
       "800001          False          False          False          False   \n",
       "800002          False          False          False          False   \n",
       "800003          False          False          False          False   \n",
       "800004          False          False          False          False   \n",
       "\n",
       "        regionCode_49  regionCode_50  \n",
       "800000          False          False  \n",
       "800001          False          False  \n",
       "800002          False          False  \n",
       "800003          False          False  \n",
       "800004          False          False  \n",
       "\n",
       "[5 rows x 144 columns]"
      ]
     },
     "execution_count": 70,
     "metadata": {},
     "output_type": "execute_result"
    }
   ],
   "source": [
    "test.head()"
   ]
  },
  {
   "cell_type": "code",
   "execution_count": 71,
   "id": "1440339b",
   "metadata": {},
   "outputs": [
    {
     "data": {
      "text/html": [
       "<div>\n",
       "<style scoped>\n",
       "    .dataframe tbody tr th:only-of-type {\n",
       "        vertical-align: middle;\n",
       "    }\n",
       "\n",
       "    .dataframe tbody tr th {\n",
       "        vertical-align: top;\n",
       "    }\n",
       "\n",
       "    .dataframe thead th {\n",
       "        text-align: right;\n",
       "    }\n",
       "</style>\n",
       "<table border=\"1\" class=\"dataframe\">\n",
       "  <thead>\n",
       "    <tr style=\"text-align: right;\">\n",
       "      <th></th>\n",
       "      <th>id</th>\n",
       "      <th>loanAmnt</th>\n",
       "      <th>term</th>\n",
       "      <th>interestRate</th>\n",
       "      <th>installment</th>\n",
       "      <th>grade</th>\n",
       "      <th>employmentTitle</th>\n",
       "      <th>employmentLength</th>\n",
       "      <th>annualIncome</th>\n",
       "      <th>issueDate</th>\n",
       "      <th>...</th>\n",
       "      <th>regionCode_41</th>\n",
       "      <th>regionCode_42</th>\n",
       "      <th>regionCode_43</th>\n",
       "      <th>regionCode_44</th>\n",
       "      <th>regionCode_45</th>\n",
       "      <th>regionCode_46</th>\n",
       "      <th>regionCode_47</th>\n",
       "      <th>regionCode_48</th>\n",
       "      <th>regionCode_49</th>\n",
       "      <th>regionCode_50</th>\n",
       "    </tr>\n",
       "  </thead>\n",
       "  <tbody>\n",
       "    <tr>\n",
       "      <th>0</th>\n",
       "      <td>0</td>\n",
       "      <td>35000.0</td>\n",
       "      <td>5</td>\n",
       "      <td>19.52</td>\n",
       "      <td>917.97</td>\n",
       "      <td>5</td>\n",
       "      <td>192025</td>\n",
       "      <td>2.0</td>\n",
       "      <td>110000.0</td>\n",
       "      <td>2014-07-01</td>\n",
       "      <td>...</td>\n",
       "      <td>False</td>\n",
       "      <td>False</td>\n",
       "      <td>False</td>\n",
       "      <td>False</td>\n",
       "      <td>False</td>\n",
       "      <td>False</td>\n",
       "      <td>False</td>\n",
       "      <td>False</td>\n",
       "      <td>False</td>\n",
       "      <td>False</td>\n",
       "    </tr>\n",
       "    <tr>\n",
       "      <th>1</th>\n",
       "      <td>1</td>\n",
       "      <td>18000.0</td>\n",
       "      <td>5</td>\n",
       "      <td>18.49</td>\n",
       "      <td>461.90</td>\n",
       "      <td>4</td>\n",
       "      <td>104733</td>\n",
       "      <td>5.0</td>\n",
       "      <td>46000.0</td>\n",
       "      <td>2012-08-01</td>\n",
       "      <td>...</td>\n",
       "      <td>False</td>\n",
       "      <td>False</td>\n",
       "      <td>False</td>\n",
       "      <td>False</td>\n",
       "      <td>False</td>\n",
       "      <td>False</td>\n",
       "      <td>False</td>\n",
       "      <td>False</td>\n",
       "      <td>False</td>\n",
       "      <td>False</td>\n",
       "    </tr>\n",
       "    <tr>\n",
       "      <th>2</th>\n",
       "      <td>2</td>\n",
       "      <td>12000.0</td>\n",
       "      <td>5</td>\n",
       "      <td>16.99</td>\n",
       "      <td>298.17</td>\n",
       "      <td>4</td>\n",
       "      <td>189509</td>\n",
       "      <td>8.0</td>\n",
       "      <td>74000.0</td>\n",
       "      <td>2015-10-01</td>\n",
       "      <td>...</td>\n",
       "      <td>False</td>\n",
       "      <td>False</td>\n",
       "      <td>False</td>\n",
       "      <td>False</td>\n",
       "      <td>False</td>\n",
       "      <td>False</td>\n",
       "      <td>False</td>\n",
       "      <td>False</td>\n",
       "      <td>False</td>\n",
       "      <td>False</td>\n",
       "    </tr>\n",
       "    <tr>\n",
       "      <th>3</th>\n",
       "      <td>3</td>\n",
       "      <td>11000.0</td>\n",
       "      <td>3</td>\n",
       "      <td>7.26</td>\n",
       "      <td>340.96</td>\n",
       "      <td>1</td>\n",
       "      <td>249631</td>\n",
       "      <td>10.0</td>\n",
       "      <td>118000.0</td>\n",
       "      <td>2015-08-01</td>\n",
       "      <td>...</td>\n",
       "      <td>False</td>\n",
       "      <td>False</td>\n",
       "      <td>False</td>\n",
       "      <td>False</td>\n",
       "      <td>False</td>\n",
       "      <td>False</td>\n",
       "      <td>False</td>\n",
       "      <td>False</td>\n",
       "      <td>False</td>\n",
       "      <td>False</td>\n",
       "    </tr>\n",
       "    <tr>\n",
       "      <th>4</th>\n",
       "      <td>4</td>\n",
       "      <td>3000.0</td>\n",
       "      <td>3</td>\n",
       "      <td>12.99</td>\n",
       "      <td>101.07</td>\n",
       "      <td>3</td>\n",
       "      <td>256267</td>\n",
       "      <td>6.0</td>\n",
       "      <td>29000.0</td>\n",
       "      <td>2016-03-01</td>\n",
       "      <td>...</td>\n",
       "      <td>False</td>\n",
       "      <td>False</td>\n",
       "      <td>False</td>\n",
       "      <td>False</td>\n",
       "      <td>False</td>\n",
       "      <td>False</td>\n",
       "      <td>False</td>\n",
       "      <td>False</td>\n",
       "      <td>False</td>\n",
       "      <td>False</td>\n",
       "    </tr>\n",
       "  </tbody>\n",
       "</table>\n",
       "<p>5 rows × 145 columns</p>\n",
       "</div>"
      ],
      "text/plain": [
       "   id  loanAmnt  term  interestRate  installment  grade  employmentTitle  \\\n",
       "0   0   35000.0     5         19.52       917.97      5           192025   \n",
       "1   1   18000.0     5         18.49       461.90      4           104733   \n",
       "2   2   12000.0     5         16.99       298.17      4           189509   \n",
       "3   3   11000.0     3          7.26       340.96      1           249631   \n",
       "4   4    3000.0     3         12.99       101.07      3           256267   \n",
       "\n",
       "   employmentLength  annualIncome   issueDate  ...  regionCode_41  \\\n",
       "0               2.0      110000.0  2014-07-01  ...          False   \n",
       "1               5.0       46000.0  2012-08-01  ...          False   \n",
       "2               8.0       74000.0  2015-10-01  ...          False   \n",
       "3              10.0      118000.0  2015-08-01  ...          False   \n",
       "4               6.0       29000.0  2016-03-01  ...          False   \n",
       "\n",
       "   regionCode_42  regionCode_43  regionCode_44  regionCode_45  regionCode_46  \\\n",
       "0          False          False          False          False          False   \n",
       "1          False          False          False          False          False   \n",
       "2          False          False          False          False          False   \n",
       "3          False          False          False          False          False   \n",
       "4          False          False          False          False          False   \n",
       "\n",
       "   regionCode_47  regionCode_48  regionCode_49  regionCode_50  \n",
       "0          False          False          False          False  \n",
       "1          False          False          False          False  \n",
       "2          False          False          False          False  \n",
       "3          False          False          False          False  \n",
       "4          False          False          False          False  \n",
       "\n",
       "[5 rows x 145 columns]"
      ]
     },
     "execution_count": 71,
     "metadata": {},
     "output_type": "execute_result"
    }
   ],
   "source": [
    "data.head()"
   ]
  },
  {
   "cell_type": "code",
   "execution_count": 72,
   "id": "ab1490ce",
   "metadata": {},
   "outputs": [
    {
     "data": {
      "text/plain": [
       "143"
      ]
     },
     "execution_count": 72,
     "metadata": {},
     "output_type": "execute_result"
    }
   ],
   "source": [
    "len(features)"
   ]
  },
  {
   "cell_type": "code",
   "execution_count": 94,
   "id": "e449dfb1",
   "metadata": {},
   "outputs": [],
   "source": [
    "x_train = train.drop(columns=['id','issueDate'])"
   ]
  },
  {
   "cell_type": "code",
   "execution_count": 95,
   "id": "cb49cba6",
   "metadata": {},
   "outputs": [],
   "source": [
    "x_test = testA.drop(columns=['id','issueDate'])"
   ]
  },
  {
   "cell_type": "code",
   "execution_count": 96,
   "id": "14958d29",
   "metadata": {},
   "outputs": [],
   "source": [
    "common_features = x_train.columns.intersection(x_test.columns)\n",
    "x_train = x_train[common_features]\n",
    "x_test = x_test[common_features]\n"
   ]
  },
  {
   "cell_type": "code",
   "execution_count": 99,
   "id": "30baf5e9",
   "metadata": {},
   "outputs": [
    {
     "data": {
      "text/plain": [
       "(800000, 38)"
      ]
     },
     "execution_count": 99,
     "metadata": {},
     "output_type": "execute_result"
    }
   ],
   "source": [
    "x_train.shape"
   ]
  },
  {
   "cell_type": "code",
   "execution_count": 100,
   "id": "5c701b1e",
   "metadata": {},
   "outputs": [
    {
     "data": {
      "text/plain": [
       "(200000, 38)"
      ]
     },
     "execution_count": 100,
     "metadata": {},
     "output_type": "execute_result"
    }
   ],
   "source": [
    "x_test.shape"
   ]
  },
  {
   "cell_type": "code",
   "execution_count": 101,
   "id": "7e9ff18d",
   "metadata": {},
   "outputs": [
    {
     "data": {
      "text/plain": [
       "(800000,)"
      ]
     },
     "execution_count": 101,
     "metadata": {},
     "output_type": "execute_result"
    }
   ],
   "source": [
    "y_train.shape"
   ]
  },
  {
   "cell_type": "code",
   "execution_count": 102,
   "id": "31d8a063",
   "metadata": {},
   "outputs": [
    {
     "data": {
      "text/html": [
       "<div>\n",
       "<style scoped>\n",
       "    .dataframe tbody tr th:only-of-type {\n",
       "        vertical-align: middle;\n",
       "    }\n",
       "\n",
       "    .dataframe tbody tr th {\n",
       "        vertical-align: top;\n",
       "    }\n",
       "\n",
       "    .dataframe thead th {\n",
       "        text-align: right;\n",
       "    }\n",
       "</style>\n",
       "<table border=\"1\" class=\"dataframe\">\n",
       "  <thead>\n",
       "    <tr style=\"text-align: right;\">\n",
       "      <th></th>\n",
       "      <th>loanAmnt</th>\n",
       "      <th>term</th>\n",
       "      <th>interestRate</th>\n",
       "      <th>installment</th>\n",
       "      <th>grade</th>\n",
       "      <th>employmentTitle</th>\n",
       "      <th>employmentLength</th>\n",
       "      <th>annualIncome</th>\n",
       "      <th>postCode</th>\n",
       "      <th>dti</th>\n",
       "      <th>...</th>\n",
       "      <th>n5</th>\n",
       "      <th>n6</th>\n",
       "      <th>n7</th>\n",
       "      <th>n8</th>\n",
       "      <th>n9</th>\n",
       "      <th>n10</th>\n",
       "      <th>n11</th>\n",
       "      <th>n12</th>\n",
       "      <th>n13</th>\n",
       "      <th>n14</th>\n",
       "    </tr>\n",
       "  </thead>\n",
       "  <tbody>\n",
       "    <tr>\n",
       "      <th>799995</th>\n",
       "      <td>25000.0</td>\n",
       "      <td>3</td>\n",
       "      <td>14.49</td>\n",
       "      <td>860.41</td>\n",
       "      <td>3</td>\n",
       "      <td>145357</td>\n",
       "      <td>7.0</td>\n",
       "      <td>72000.0</td>\n",
       "      <td>160</td>\n",
       "      <td>19.03</td>\n",
       "      <td>...</td>\n",
       "      <td>6.0</td>\n",
       "      <td>2.0</td>\n",
       "      <td>12.0</td>\n",
       "      <td>13.0</td>\n",
       "      <td>10.0</td>\n",
       "      <td>14.0</td>\n",
       "      <td>0.0</td>\n",
       "      <td>0.0</td>\n",
       "      <td>0.0</td>\n",
       "      <td>3.0</td>\n",
       "    </tr>\n",
       "    <tr>\n",
       "      <th>799996</th>\n",
       "      <td>17000.0</td>\n",
       "      <td>3</td>\n",
       "      <td>7.90</td>\n",
       "      <td>531.94</td>\n",
       "      <td>1</td>\n",
       "      <td>168143</td>\n",
       "      <td>10.0</td>\n",
       "      <td>99000.0</td>\n",
       "      <td>516</td>\n",
       "      <td>15.72</td>\n",
       "      <td>...</td>\n",
       "      <td>15.0</td>\n",
       "      <td>16.0</td>\n",
       "      <td>2.0</td>\n",
       "      <td>19.0</td>\n",
       "      <td>2.0</td>\n",
       "      <td>7.0</td>\n",
       "      <td>0.0</td>\n",
       "      <td>0.0</td>\n",
       "      <td>0.0</td>\n",
       "      <td>0.0</td>\n",
       "    </tr>\n",
       "    <tr>\n",
       "      <th>799997</th>\n",
       "      <td>6000.0</td>\n",
       "      <td>3</td>\n",
       "      <td>13.33</td>\n",
       "      <td>203.12</td>\n",
       "      <td>3</td>\n",
       "      <td>138795</td>\n",
       "      <td>10.0</td>\n",
       "      <td>65000.0</td>\n",
       "      <td>412</td>\n",
       "      <td>12.11</td>\n",
       "      <td>...</td>\n",
       "      <td>4.0</td>\n",
       "      <td>26.0</td>\n",
       "      <td>4.0</td>\n",
       "      <td>10.0</td>\n",
       "      <td>4.0</td>\n",
       "      <td>5.0</td>\n",
       "      <td>0.0</td>\n",
       "      <td>0.0</td>\n",
       "      <td>1.0</td>\n",
       "      <td>4.0</td>\n",
       "    </tr>\n",
       "    <tr>\n",
       "      <th>799998</th>\n",
       "      <td>19200.0</td>\n",
       "      <td>3</td>\n",
       "      <td>6.92</td>\n",
       "      <td>592.14</td>\n",
       "      <td>1</td>\n",
       "      <td>45602</td>\n",
       "      <td>10.0</td>\n",
       "      <td>96000.0</td>\n",
       "      <td>268</td>\n",
       "      <td>29.25</td>\n",
       "      <td>...</td>\n",
       "      <td>10.0</td>\n",
       "      <td>6.0</td>\n",
       "      <td>12.0</td>\n",
       "      <td>22.0</td>\n",
       "      <td>8.0</td>\n",
       "      <td>16.0</td>\n",
       "      <td>0.0</td>\n",
       "      <td>0.0</td>\n",
       "      <td>0.0</td>\n",
       "      <td>5.0</td>\n",
       "    </tr>\n",
       "    <tr>\n",
       "      <th>799999</th>\n",
       "      <td>9000.0</td>\n",
       "      <td>3</td>\n",
       "      <td>11.06</td>\n",
       "      <td>294.91</td>\n",
       "      <td>2</td>\n",
       "      <td>27055</td>\n",
       "      <td>5.0</td>\n",
       "      <td>120000.0</td>\n",
       "      <td>579</td>\n",
       "      <td>8.99</td>\n",
       "      <td>...</td>\n",
       "      <td>3.0</td>\n",
       "      <td>4.0</td>\n",
       "      <td>4.0</td>\n",
       "      <td>8.0</td>\n",
       "      <td>3.0</td>\n",
       "      <td>7.0</td>\n",
       "      <td>0.0</td>\n",
       "      <td>0.0</td>\n",
       "      <td>0.0</td>\n",
       "      <td>2.0</td>\n",
       "    </tr>\n",
       "  </tbody>\n",
       "</table>\n",
       "<p>5 rows × 38 columns</p>\n",
       "</div>"
      ],
      "text/plain": [
       "        loanAmnt  term  interestRate  installment  grade  employmentTitle  \\\n",
       "799995   25000.0     3         14.49       860.41      3           145357   \n",
       "799996   17000.0     3          7.90       531.94      1           168143   \n",
       "799997    6000.0     3         13.33       203.12      3           138795   \n",
       "799998   19200.0     3          6.92       592.14      1            45602   \n",
       "799999    9000.0     3         11.06       294.91      2            27055   \n",
       "\n",
       "        employmentLength  annualIncome  postCode    dti  ...    n5    n6  \\\n",
       "799995               7.0       72000.0       160  19.03  ...   6.0   2.0   \n",
       "799996              10.0       99000.0       516  15.72  ...  15.0  16.0   \n",
       "799997              10.0       65000.0       412  12.11  ...   4.0  26.0   \n",
       "799998              10.0       96000.0       268  29.25  ...  10.0   6.0   \n",
       "799999               5.0      120000.0       579   8.99  ...   3.0   4.0   \n",
       "\n",
       "          n7    n8    n9   n10  n11  n12  n13  n14  \n",
       "799995  12.0  13.0  10.0  14.0  0.0  0.0  0.0  3.0  \n",
       "799996   2.0  19.0   2.0   7.0  0.0  0.0  0.0  0.0  \n",
       "799997   4.0  10.0   4.0   5.0  0.0  0.0  1.0  4.0  \n",
       "799998  12.0  22.0   8.0  16.0  0.0  0.0  0.0  5.0  \n",
       "799999   4.0   8.0   3.0   7.0  0.0  0.0  0.0  2.0  \n",
       "\n",
       "[5 rows x 38 columns]"
      ]
     },
     "execution_count": 102,
     "metadata": {},
     "output_type": "execute_result"
    }
   ],
   "source": [
    "x_train.tail(5)"
   ]
  },
  {
   "cell_type": "code",
   "execution_count": 103,
   "id": "4d7b98c3",
   "metadata": {},
   "outputs": [
    {
     "data": {
      "text/plain": [
       "<bound method DataFrame.info of         loanAmnt  term  interestRate  installment  grade  employmentTitle  \\\n",
       "0        35000.0     5         19.52       917.97      5           192025   \n",
       "1        18000.0     5         18.49       461.90      4           104733   \n",
       "2        12000.0     5         16.99       298.17      4           189509   \n",
       "3        11000.0     3          7.26       340.96      1           249631   \n",
       "4         3000.0     3         12.99       101.07      3           256267   \n",
       "...          ...   ...           ...          ...    ...              ...   \n",
       "799995   25000.0     3         14.49       860.41      3           145357   \n",
       "799996   17000.0     3          7.90       531.94      1           168143   \n",
       "799997    6000.0     3         13.33       203.12      3           138795   \n",
       "799998   19200.0     3          6.92       592.14      1            45602   \n",
       "799999    9000.0     3         11.06       294.91      2            27055   \n",
       "\n",
       "        employmentLength  annualIncome  postCode    dti  ...    n5    n6  \\\n",
       "0                    2.0      110000.0        43  17.05  ...   9.0   8.0   \n",
       "1                    5.0       46000.0        64  27.83  ...   7.0   7.0   \n",
       "2                    8.0       74000.0       265  22.77  ...   0.0  21.0   \n",
       "3                   10.0      118000.0        55  17.21  ...  16.0   4.0   \n",
       "4                    6.0       29000.0       226  32.16  ...   4.0   9.0   \n",
       "...                  ...           ...       ...    ...  ...   ...   ...   \n",
       "799995               7.0       72000.0       160  19.03  ...   6.0   2.0   \n",
       "799996              10.0       99000.0       516  15.72  ...  15.0  16.0   \n",
       "799997              10.0       65000.0       412  12.11  ...   4.0  26.0   \n",
       "799998              10.0       96000.0       268  29.25  ...  10.0   6.0   \n",
       "799999               5.0      120000.0       579   8.99  ...   3.0   4.0   \n",
       "\n",
       "          n7    n8    n9   n10  n11  n12  n13  n14  \n",
       "0        4.0  12.0   2.0   7.0  0.0  0.0  0.0  2.0  \n",
       "1        7.0  13.0   5.0  13.0  0.0  0.0  0.0  2.0  \n",
       "2        4.0   5.0   3.0  11.0  0.0  0.0  0.0  4.0  \n",
       "3        7.0  21.0   6.0   9.0  0.0  0.0  0.0  1.0  \n",
       "4       10.0  15.0   7.0  12.0  0.0  0.0  0.0  4.0  \n",
       "...      ...   ...   ...   ...  ...  ...  ...  ...  \n",
       "799995  12.0  13.0  10.0  14.0  0.0  0.0  0.0  3.0  \n",
       "799996   2.0  19.0   2.0   7.0  0.0  0.0  0.0  0.0  \n",
       "799997   4.0  10.0   4.0   5.0  0.0  0.0  1.0  4.0  \n",
       "799998  12.0  22.0   8.0  16.0  0.0  0.0  0.0  5.0  \n",
       "799999   4.0   8.0   3.0   7.0  0.0  0.0  0.0  2.0  \n",
       "\n",
       "[800000 rows x 38 columns]>"
      ]
     },
     "execution_count": 103,
     "metadata": {},
     "output_type": "execute_result"
    }
   ],
   "source": [
    "x_train.info"
   ]
  },
  {
   "cell_type": "code",
   "execution_count": 104,
   "id": "18582bf8",
   "metadata": {},
   "outputs": [
    {
     "name": "stdout",
     "output_type": "stream",
     "text": [
      "x_train 中未编码的类别型数据列:\n",
      "Index([], dtype='object')\n",
      "\n",
      "x_test 中未编码的类别型数据列:\n",
      "Index(['grade', 'employmentLength', 'earliesCreditLine'], dtype='object')\n"
     ]
    },
    {
     "name": "stderr",
     "output_type": "stream",
     "text": [
      "0it [00:00, ?it/s]\n",
      "100%|████████████████████████████████████████████████████████████████████████████████████| 3/3 [00:00<00:00,  3.28it/s]"
     ]
    },
    {
     "name": "stdout",
     "output_type": "stream",
     "text": [
      "剩余类别型数据的编码完成\n"
     ]
    },
    {
     "name": "stderr",
     "output_type": "stream",
     "text": [
      "\n"
     ]
    }
   ],
   "source": [
    "# 检查 x_train 和 x_test 中是否仍然存在类别型数据\n",
    "categorical_columns_train = x_train.select_dtypes(include=['object']).columns\n",
    "categorical_columns_test = x_test.select_dtypes(include=['object']).columns\n",
    "\n",
    "print(\"x_train 中未编码的类别型数据列:\")\n",
    "print(categorical_columns_train)\n",
    "\n",
    "print(\"\\nx_test 中未编码的类别型数据列:\")\n",
    "print(categorical_columns_test)\n",
    "\n",
    "# 如果存在未编码的列，使用 LabelEncoder 进行编码\n",
    "for col in tqdm(categorical_columns_train):\n",
    "    le = LabelEncoder()\n",
    "    le.fit(list(x_train[col].astype(str).values))\n",
    "    x_train[col] = le.transform(list(x_train[col].astype(str).values))\n",
    "\n",
    "for col in tqdm(categorical_columns_test):\n",
    "    le = LabelEncoder()\n",
    "    le.fit(list(x_test[col].astype(str).values))\n",
    "    x_test[col] = le.transform(list(x_test[col].astype(str).values))\n",
    "\n",
    "print('剩余类别型数据的编码完成')\n",
    "\n"
   ]
  },
  {
   "cell_type": "code",
   "execution_count": 105,
   "id": "af987725",
   "metadata": {},
   "outputs": [],
   "source": [
    "import lightgbm as lgb\n",
    "import xgboost as xgb\n",
    "from catboost import CatBoostRegressor\n",
    "from catboost import CatBoostClassifier\n",
    "from sklearn.linear_model import SGDRegressor, LinearRegression, Ridge\n",
    "from sklearn.preprocessing import MinMaxScaler\n",
    "from sklearn.model_selection import StratifiedKFold, KFold\n",
    "from sklearn.metrics import accuracy_score, f1_score, roc_auc_score, log_loss\n",
    "import matplotlib.pyplot as plt\n",
    "import time\n"
   ]
  },
  {
   "cell_type": "code",
   "execution_count": 106,
   "id": "34e25deb",
   "metadata": {},
   "outputs": [],
   "source": [
    "from sklearn.metrics import roc_auc_score\n",
    "from sklearn.model_selection import KFold\n",
    "import numpy as np\n",
    "\n"
   ]
  },
  {
   "cell_type": "code",
   "execution_count": 111,
   "id": "4e8f4bb5",
   "metadata": {},
   "outputs": [],
   "source": [
    "def cv_model(clf, train_x, train_y, test_x, clf_name):\n",
    "    folds = 5\n",
    "    seed = 2020\n",
    "    kf = KFold(n_splits=folds, shuffle=True, random_state=seed)\n",
    "\n",
    "    train = np.zeros(train_x.shape[0])\n",
    "    test = np.zeros(test_x.shape[0])\n",
    "\n",
    "    cv_scores = []\n",
    "\n",
    "    for i, (train_index, valid_index) in enumerate(kf.split(train_x, train_y)):\n",
    "        print('************************************ {} ************************************'.format(str(i+1)))\n",
    "        trn_x, trn_y, val_x, val_y = train_x.iloc[train_index], train_y[train_index], train_x.iloc[valid_index], train_y[valid_index]\n",
    "\n",
    "        if clf_name == \"lgb\":\n",
    "            train_matrix = lgb.Dataset(trn_x, label=trn_y)\n",
    "            valid_matrix = lgb.Dataset(val_x, label=val_y)\n",
    "\n",
    "            params = {\n",
    "                'boosting_type': 'gbdt',\n",
    "                'objective': 'binary',\n",
    "                'metric': 'auc',\n",
    "                'min_child_weight': 5,\n",
    "                'num_leaves': 2 ** 5,\n",
    "                'lambda_l2': 10,\n",
    "                'feature_fraction': 0.8,\n",
    "                'bagging_fraction': 0.8,\n",
    "                'bagging_freq': 4,\n",
    "                'learning_rate': 0.1,\n",
    "                'seed': 2020,\n",
    "                'nthread': 28,\n",
    "                'n_jobs': 24,\n",
    "                'verbose': -1,\n",
    "                'verbose_eval': 200,\n",
    "                'early_stopping_rounds': 200\n",
    "            }\n",
    "\n",
    "            model = lgb.train(params, train_matrix, 50000, valid_sets=[train_matrix, valid_matrix])\n",
    "            val_pred = model.predict(val_x, num_iteration=model.best_iteration)\n",
    "            test_pred = model.predict(test_x, num_iteration=model.best_iteration)\n",
    "                \n",
    "        elif clf_name == \"xgb\":\n",
    "            train_matrix = xgb.DMatrix(trn_x, label=trn_y)\n",
    "            valid_matrix = xgb.DMatrix(val_x, label=val_y)\n",
    "            test_matrix = xgb.DMatrix(test_x)\n",
    "\n",
    "            params = {\n",
    "                'booster': 'gbtree',\n",
    "                'objective': 'binary:logistic',\n",
    "                'eval_metric': 'auc',\n",
    "                'gamma': 1,\n",
    "                'min_child_weight': 1.5,\n",
    "                'max_depth': 5,\n",
    "                'lambda': 10,\n",
    "                'subsample': 0.7,\n",
    "                'colsample_bytree': 0.7,\n",
    "                'colsample_bylevel': 0.7,\n",
    "                'eta': 0.04,\n",
    "                'tree_method': 'exact',\n",
    "                'seed': 2020,\n",
    "                'nthread': 36,\n",
    "                'verbose': 200,\n",
    "            }\n",
    "\n",
    "            watchlist = [(train_matrix, 'train'), (valid_matrix, 'eval')]\n",
    "\n",
    "            model = xgb.train(params, train_matrix, num_boost_round=50000, evals=watchlist, \n",
    "                              verbose_eval=200, early_stopping_rounds=200)\n",
    "\n",
    "            # 检查是否存在 best_ntree_limit 属性\n",
    "            if hasattr(model, 'best_ntree_limit'):\n",
    "                val_pred = model.predict(valid_matrix, ntree_limit=model.best_ntree_limit)\n",
    "                test_pred = model.predict(test_matrix, ntree_limit=model.best_ntree_limit)\n",
    "            else:\n",
    "                val_pred = model.predict(valid_matrix)\n",
    "                test_pred = model.predict(test_matrix)\n",
    "\n",
    "        elif clf_name == \"cat\":\n",
    "            params = {\n",
    "                'learning_rate': 0.05,\n",
    "                'depth': 5,\n",
    "                'l2_leaf_reg': 10,\n",
    "                'bootstrap_type': 'Bernoulli',\n",
    "                'od_type': 'Iter',\n",
    "                'od_wait': 50,\n",
    "                'random_seed': 11,\n",
    "                'allow_writing_files': False,\n",
    "            }\n",
    "            \n",
    "            model = clf(iterations=20000, **params)\n",
    "            model.fit(trn_x, trn_y, eval_set=(val_x, val_y), cat_features=[], use_best_model=True, verbose=500)\n",
    "            \n",
    "            val_pred = model.predict(val_x)\n",
    "            test_pred = model.predict(test_x)\n",
    "            \n",
    "        train[valid_index] = val_pred\n",
    "        test += test_pred / kf.n_splits\n",
    "        cv_scores.append(roc_auc_score(val_y, val_pred))\n",
    "        \n",
    "        print(cv_scores)\n",
    "       \n",
    "    print(\"%s_score_list:\" % clf_name, cv_scores)\n",
    "    print(\"%s_score_mean:\" % clf_name, np.mean(cv_scores))\n",
    "    print(\"%s_score_std:\" % clf_name, np.std(cv_scores))\n",
    "    return train, test\n"
   ]
  },
  {
   "cell_type": "code",
   "execution_count": 112,
   "id": "d59489d5",
   "metadata": {},
   "outputs": [
    {
     "name": "stdout",
     "output_type": "stream",
     "text": [
      "************************************ 1 ************************************\n",
      "[0.7256848784016312]\n",
      "************************************ 2 ************************************\n",
      "[0.7256848784016312, 0.7211170303745957]\n",
      "************************************ 3 ************************************\n",
      "[0.7256848784016312, 0.7211170303745957, 0.7263653745047234]\n",
      "************************************ 4 ************************************\n",
      "[0.7256848784016312, 0.7211170303745957, 0.7263653745047234, 0.7248154670729106]\n",
      "************************************ 5 ************************************\n",
      "[0.7256848784016312, 0.7211170303745957, 0.7263653745047234, 0.7248154670729106, 0.7240375699066193]\n",
      "lgb_score_list: [0.7256848784016312, 0.7211170303745957, 0.7263653745047234, 0.7248154670729106, 0.7240375699066193]\n",
      "lgb_score_mean: 0.724404064052096\n",
      "lgb_score_std: 0.0018218334111979448\n",
      "************************************ 1 ************************************\n",
      "[0]\ttrain-auc:0.69038\teval-auc:0.69029\n",
      "[200]\ttrain-auc:0.71685\teval-auc:0.71349\n",
      "[400]\ttrain-auc:0.72301\teval-auc:0.71623\n",
      "[600]\ttrain-auc:0.72730\teval-auc:0.71737\n",
      "[800]\ttrain-auc:0.73086\teval-auc:0.71806\n",
      "[1000]\ttrain-auc:0.73408\teval-auc:0.71842\n",
      "[1200]\ttrain-auc:0.73704\teval-auc:0.71880\n",
      "[1400]\ttrain-auc:0.73981\teval-auc:0.71898\n",
      "[1600]\ttrain-auc:0.74244\teval-auc:0.71904\n",
      "[1800]\ttrain-auc:0.74500\teval-auc:0.71916\n",
      "[2000]\ttrain-auc:0.74730\teval-auc:0.71914\n",
      "[2063]\ttrain-auc:0.74808\teval-auc:0.71911\n",
      "[0.7191104965483597]\n",
      "************************************ 2 ************************************\n",
      "[0]\ttrain-auc:0.69160\teval-auc:0.68720\n",
      "[200]\ttrain-auc:0.71801\teval-auc:0.70939\n",
      "[400]\ttrain-auc:0.72406\teval-auc:0.71194\n",
      "[600]\ttrain-auc:0.72838\teval-auc:0.71286\n",
      "[800]\ttrain-auc:0.73204\teval-auc:0.71344\n",
      "[1000]\ttrain-auc:0.73532\teval-auc:0.71385\n",
      "[1200]\ttrain-auc:0.73833\teval-auc:0.71406\n",
      "[1400]\ttrain-auc:0.74107\teval-auc:0.71413\n",
      "[1600]\ttrain-auc:0.74370\teval-auc:0.71422\n",
      "[1800]\ttrain-auc:0.74636\teval-auc:0.71442\n",
      "[2000]\ttrain-auc:0.74869\teval-auc:0.71440\n",
      "[2094]\ttrain-auc:0.74975\teval-auc:0.71445\n",
      "[0.7191104965483597, 0.7144496451891378]\n",
      "************************************ 3 ************************************\n",
      "[0]\ttrain-auc:0.69067\teval-auc:0.69173\n",
      "[200]\ttrain-auc:0.71663\teval-auc:0.71453\n",
      "[400]\ttrain-auc:0.72297\teval-auc:0.71690\n",
      "[600]\ttrain-auc:0.72744\teval-auc:0.71777\n",
      "[800]\ttrain-auc:0.73113\teval-auc:0.71828\n",
      "[1000]\ttrain-auc:0.73440\teval-auc:0.71861\n",
      "[1200]\ttrain-auc:0.73736\teval-auc:0.71871\n",
      "[1400]\ttrain-auc:0.74022\teval-auc:0.71875\n",
      "[1600]\ttrain-auc:0.74283\teval-auc:0.71881\n",
      "[1800]\ttrain-auc:0.74533\teval-auc:0.71884\n",
      "[1899]\ttrain-auc:0.74658\teval-auc:0.71884\n",
      "[0.7191104965483597, 0.7144496451891378, 0.7188391750629526]\n",
      "************************************ 4 ************************************\n",
      "[0]\ttrain-auc:0.69097\teval-auc:0.68879\n",
      "[200]\ttrain-auc:0.71712\teval-auc:0.71207\n",
      "[400]\ttrain-auc:0.72320\teval-auc:0.71521\n",
      "[600]\ttrain-auc:0.72748\teval-auc:0.71650\n",
      "[800]\ttrain-auc:0.73124\teval-auc:0.71719\n",
      "[1000]\ttrain-auc:0.73464\teval-auc:0.71771\n",
      "[1200]\ttrain-auc:0.73768\teval-auc:0.71795\n",
      "[1400]\ttrain-auc:0.74051\teval-auc:0.71815\n",
      "[1600]\ttrain-auc:0.74313\teval-auc:0.71828\n",
      "[1800]\ttrain-auc:0.74559\teval-auc:0.71830\n",
      "[2000]\ttrain-auc:0.74793\teval-auc:0.71837\n",
      "[2200]\ttrain-auc:0.75027\teval-auc:0.71841\n",
      "[2400]\ttrain-auc:0.75256\teval-auc:0.71837\n",
      "[2402]\ttrain-auc:0.75258\teval-auc:0.71836\n",
      "[0.7191104965483597, 0.7144496451891378, 0.7188391750629526, 0.7183599699469858]\n",
      "************************************ 5 ************************************\n",
      "[0]\ttrain-auc:0.69098\teval-auc:0.69020\n",
      "[200]\ttrain-auc:0.71749\teval-auc:0.71144\n",
      "[400]\ttrain-auc:0.72375\teval-auc:0.71399\n",
      "[600]\ttrain-auc:0.72804\teval-auc:0.71507\n",
      "[800]\ttrain-auc:0.73156\teval-auc:0.71564\n",
      "[1000]\ttrain-auc:0.73484\teval-auc:0.71606\n",
      "[1200]\ttrain-auc:0.73784\teval-auc:0.71630\n",
      "[1400]\ttrain-auc:0.74062\teval-auc:0.71640\n",
      "[1600]\ttrain-auc:0.74324\teval-auc:0.71639\n",
      "[1800]\ttrain-auc:0.74573\teval-auc:0.71639\n",
      "[1851]\ttrain-auc:0.74634\teval-auc:0.71637\n",
      "[0.7191104965483597, 0.7144496451891378, 0.7188391750629526, 0.7183599699469858, 0.7163708760343755]\n",
      "xgb_score_list: [0.7191104965483597, 0.7144496451891378, 0.7188391750629526, 0.7183599699469858, 0.7163708760343755]\n",
      "xgb_score_mean: 0.7174260325563623\n",
      "xgb_score_std: 0.0017708114964353231\n"
     ]
    },
    {
     "ename": "NameError",
     "evalue": "name 'CatBoostClassifier' is not defined",
     "output_type": "error",
     "traceback": [
      "\u001b[1;31m---------------------------------------------------------------------------\u001b[0m",
      "\u001b[1;31mNameError\u001b[0m                                 Traceback (most recent call last)",
      "Cell \u001b[1;32mIn[112], line 19\u001b[0m\n\u001b[0;32m     17\u001b[0m lgb_train, lgb_test \u001b[38;5;241m=\u001b[39m lgb_model(x_train, y_train, x_test)\n\u001b[0;32m     18\u001b[0m xgb_train, xgb_test \u001b[38;5;241m=\u001b[39m xgb_model(x_train, y_train, x_test)\n\u001b[1;32m---> 19\u001b[0m cat_train, cat_test \u001b[38;5;241m=\u001b[39m cat_model(x_train, y_train, x_test)\n",
      "Cell \u001b[1;32mIn[112], line 13\u001b[0m, in \u001b[0;36mcat_model\u001b[1;34m(x_train, y_train, x_test)\u001b[0m\n\u001b[0;32m     12\u001b[0m \u001b[38;5;28;01mdef\u001b[39;00m \u001b[38;5;21mcat_model\u001b[39m(x_train, y_train, x_test):\n\u001b[1;32m---> 13\u001b[0m     cat_train, cat_test \u001b[38;5;241m=\u001b[39m cv_model(CatBoostClassifier, x_train, y_train, x_test, \u001b[38;5;124m\"\u001b[39m\u001b[38;5;124mcat\u001b[39m\u001b[38;5;124m\"\u001b[39m)\n\u001b[0;32m     14\u001b[0m     \u001b[38;5;28;01mreturn\u001b[39;00m cat_train, cat_test\n",
      "\u001b[1;31mNameError\u001b[0m: name 'CatBoostClassifier' is not defined"
     ]
    }
   ],
   "source": [
    "# 1. LightGBM 模型函数\n",
    "def lgb_model(x_train, y_train, x_test):\n",
    "    lgb_train, lgb_test = cv_model(lgb, x_train, y_train, x_test, \"lgb\")\n",
    "    return lgb_train, lgb_test\n",
    "\n",
    "# 2. XGBoost 模型函数\n",
    "def xgb_model(x_train, y_train, x_test):\n",
    "    xgb_train, xgb_test = cv_model(xgb, x_train, y_train, x_test, \"xgb\")\n",
    "    return xgb_train, xgb_test\n",
    "\n",
    "# 3. CatBoost 模型函数\n",
    "def cat_model(x_train, y_train, x_test):\n",
    "    cat_train, cat_test = cv_model(CatBoostClassifier, x_train, y_train, x_test, \"cat\")\n",
    "    return cat_train, cat_test\n",
    "\n",
    "# 示例调用\n",
    "lgb_train, lgb_test = lgb_model(x_train, y_train, x_test)\n",
    "xgb_train, xgb_test = xgb_model(x_train, y_train, x_test)\n",
    "cat_train, cat_test = cat_model(x_train, y_train, x_test)"
   ]
  },
  {
   "cell_type": "code",
   "execution_count": 113,
   "id": "1cf43e4b",
   "metadata": {},
   "outputs": [],
   "source": [
    "from catboost import CatBoostClassifier"
   ]
  },
  {
   "cell_type": "code",
   "execution_count": 114,
   "id": "47e349e7",
   "metadata": {},
   "outputs": [
    {
     "name": "stdout",
     "output_type": "stream",
     "text": [
      "************************************ 1 ************************************\n",
      "0:\tlearn: 0.6675132\ttest: 0.6673728\tbest: 0.6673728 (0)\ttotal: 281ms\tremaining: 1h 33m 39s\n",
      "500:\tlearn: 0.4483049\ttest: 0.4462835\tbest: 0.4462835 (500)\ttotal: 1m 27s\tremaining: 56m 30s\n",
      "1000:\tlearn: 0.4452060\ttest: 0.4449596\tbest: 0.4449593 (999)\ttotal: 3m\tremaining: 57m 14s\n",
      "1500:\tlearn: 0.4429576\ttest: 0.4443286\tbest: 0.4443265 (1498)\ttotal: 4m 32s\tremaining: 55m 58s\n",
      "2000:\tlearn: 0.4409625\ttest: 0.4439219\tbest: 0.4439216 (1998)\ttotal: 6m 1s\tremaining: 54m 8s\n",
      "2500:\tlearn: 0.4391364\ttest: 0.4436387\tbest: 0.4436377 (2488)\ttotal: 7m 28s\tremaining: 52m 18s\n",
      "3000:\tlearn: 0.4374146\ttest: 0.4433799\tbest: 0.4433799 (3000)\ttotal: 9m 25s\tremaining: 53m 21s\n",
      "Stopped by overfitting detector  (50 iterations wait)\n",
      "\n",
      "bestTest = 0.4433305034\n",
      "bestIteration = 3154\n",
      "\n",
      "Shrink model to first 3155 iterations.\n",
      "[0.5380918164719445]\n",
      "************************************ 2 ************************************\n",
      "0:\tlearn: 0.6673204\ttest: 0.6675156\tbest: 0.6675156 (0)\ttotal: 169ms\tremaining: 56m 23s\n",
      "500:\tlearn: 0.4469263\ttest: 0.4517341\tbest: 0.4517341 (500)\ttotal: 1m 29s\tremaining: 58m 4s\n",
      "1000:\tlearn: 0.4438168\ttest: 0.4503629\tbest: 0.4503619 (998)\ttotal: 2m 53s\tremaining: 54m 56s\n",
      "1500:\tlearn: 0.4415166\ttest: 0.4496744\tbest: 0.4496735 (1498)\ttotal: 4m 23s\tremaining: 54m 13s\n",
      "2000:\tlearn: 0.4395460\ttest: 0.4492648\tbest: 0.4492626 (1998)\ttotal: 5m 49s\tremaining: 52m 21s\n",
      "2500:\tlearn: 0.4377480\ttest: 0.4490008\tbest: 0.4490006 (2499)\ttotal: 7m 14s\tremaining: 50m 40s\n",
      "3000:\tlearn: 0.4360286\ttest: 0.4488251\tbest: 0.4488247 (2998)\ttotal: 8m 35s\tremaining: 48m 39s\n",
      "3500:\tlearn: 0.4344077\ttest: 0.4486706\tbest: 0.4486680 (3463)\ttotal: 9m 58s\tremaining: 47m 2s\n",
      "4000:\tlearn: 0.4328154\ttest: 0.4485238\tbest: 0.4485238 (3999)\ttotal: 11m 21s\tremaining: 45m 26s\n",
      "Stopped by overfitting detector  (50 iterations wait)\n",
      "\n",
      "bestTest = 0.448507697\n",
      "bestIteration = 4064\n",
      "\n",
      "Shrink model to first 4065 iterations.\n",
      "[0.5380918164719445, 0.5371622814333037]\n",
      "************************************ 3 ************************************\n",
      "0:\tlearn: 0.6674239\ttest: 0.6675423\tbest: 0.6675423 (0)\ttotal: 101ms\tremaining: 33m 40s\n",
      "500:\tlearn: 0.4475639\ttest: 0.4494092\tbest: 0.4494092 (500)\ttotal: 1m 21s\tremaining: 52m 43s\n",
      "1000:\tlearn: 0.4443971\ttest: 0.4480157\tbest: 0.4480157 (1000)\ttotal: 2m 43s\tremaining: 51m 42s\n",
      "1500:\tlearn: 0.4420916\ttest: 0.4474035\tbest: 0.4474035 (1500)\ttotal: 4m 4s\tremaining: 50m 17s\n",
      "2000:\tlearn: 0.4401252\ttest: 0.4470666\tbest: 0.4470666 (2000)\ttotal: 5m 25s\tremaining: 48m 44s\n",
      "2500:\tlearn: 0.4382801\ttest: 0.4468862\tbest: 0.4468862 (2500)\ttotal: 6m 45s\tremaining: 47m 14s\n",
      "Stopped by overfitting detector  (50 iterations wait)\n",
      "\n",
      "bestTest = 0.4468283016\n",
      "bestIteration = 2623\n",
      "\n",
      "Shrink model to first 2624 iterations.\n",
      "[0.5380918164719445, 0.5371622814333037, 0.5369616956732198]\n",
      "************************************ 4 ************************************\n",
      "0:\tlearn: 0.6674476\ttest: 0.6675473\tbest: 0.6675473 (0)\ttotal: 108ms\tremaining: 35m 58s\n",
      "500:\tlearn: 0.4474467\ttest: 0.4495862\tbest: 0.4495862 (500)\ttotal: 1m 18s\tremaining: 51m 10s\n",
      "1000:\tlearn: 0.4444177\ttest: 0.4482049\tbest: 0.4482033 (997)\ttotal: 2m 38s\tremaining: 50m 13s\n",
      "1500:\tlearn: 0.4421497\ttest: 0.4475437\tbest: 0.4475437 (1500)\ttotal: 4m\tremaining: 49m 22s\n",
      "2000:\tlearn: 0.4401516\ttest: 0.4471797\tbest: 0.4471783 (1999)\ttotal: 5m 21s\tremaining: 48m 7s\n",
      "2500:\tlearn: 0.4383436\ttest: 0.4468570\tbest: 0.4468564 (2498)\ttotal: 6m 43s\tremaining: 47m 3s\n",
      "3000:\tlearn: 0.4366693\ttest: 0.4466408\tbest: 0.4466356 (2981)\ttotal: 8m 4s\tremaining: 45m 44s\n",
      "Stopped by overfitting detector  (50 iterations wait)\n",
      "\n",
      "bestTest = 0.4465578445\n",
      "bestIteration = 3249\n",
      "\n",
      "Shrink model to first 3250 iterations.\n",
      "[0.5380918164719445, 0.5371622814333037, 0.5369616956732198, 0.5375183270101999]\n",
      "************************************ 5 ************************************\n",
      "0:\tlearn: 0.6674805\ttest: 0.6674742\tbest: 0.6674742 (0)\ttotal: 94.8ms\tremaining: 31m 36s\n",
      "500:\tlearn: 0.4474651\ttest: 0.4492627\tbest: 0.4492627 (500)\ttotal: 1m 19s\tremaining: 51m 16s\n",
      "1000:\tlearn: 0.4444220\ttest: 0.4479338\tbest: 0.4479338 (1000)\ttotal: 2m 37s\tremaining: 49m 57s\n",
      "1500:\tlearn: 0.4421097\ttest: 0.4472080\tbest: 0.4472080 (1500)\ttotal: 3m 59s\tremaining: 49m 12s\n",
      "2000:\tlearn: 0.4401454\ttest: 0.4468322\tbest: 0.4468322 (2000)\ttotal: 5m 19s\tremaining: 47m 55s\n",
      "2500:\tlearn: 0.4383560\ttest: 0.4465186\tbest: 0.4465186 (2500)\ttotal: 6m 41s\tremaining: 46m 49s\n",
      "3000:\tlearn: 0.4366848\ttest: 0.4463106\tbest: 0.4463106 (3000)\ttotal: 8m 4s\tremaining: 45m 42s\n",
      "Stopped by overfitting detector  (50 iterations wait)\n",
      "\n",
      "bestTest = 0.446202359\n",
      "bestIteration = 3281\n",
      "\n",
      "Shrink model to first 3282 iterations.\n",
      "[0.5380918164719445, 0.5371622814333037, 0.5369616956732198, 0.5375183270101999, 0.5358259861737383]\n",
      "cat_score_list: [0.5380918164719445, 0.5371622814333037, 0.5369616956732198, 0.5375183270101999, 0.5358259861737383]\n",
      "cat_score_mean: 0.5371120213524812\n",
      "cat_score_std: 0.0007488782451309606\n"
     ]
    }
   ],
   "source": [
    "cat_train, cat_test = cat_model(x_train, y_train, x_test)"
   ]
  },
  {
   "cell_type": "code",
   "execution_count": null,
   "id": "c7abba96",
   "metadata": {},
   "outputs": [],
   "source": []
  }
 ],
 "metadata": {
  "kernelspec": {
   "display_name": "Python 3 (ipykernel)",
   "language": "python",
   "name": "python3"
  },
  "language_info": {
   "codemirror_mode": {
    "name": "ipython",
    "version": 3
   },
   "file_extension": ".py",
   "mimetype": "text/x-python",
   "name": "python",
   "nbconvert_exporter": "python",
   "pygments_lexer": "ipython3",
   "version": "3.11.4"
  }
 },
 "nbformat": 4,
 "nbformat_minor": 5
}
